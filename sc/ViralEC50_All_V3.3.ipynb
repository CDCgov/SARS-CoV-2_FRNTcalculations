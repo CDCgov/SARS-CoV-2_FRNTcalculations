{
 "cells": [
  {
   "cell_type": "code",
   "execution_count": null,
   "metadata": {},
   "outputs": [],
   "source": [
    "#install.packages(c(\"drc\", \"Hmisc\", \"reshape\")) if working in a persistent environment, should only require install once."
   ]
  },
  {
   "cell_type": "code",
   "execution_count": null,
   "metadata": {},
   "outputs": [],
   "source": [
    "library(\"tidyverse\")\n",
    "library(\"drc\")\n",
    "library(\"reshape\")\n",
    "library(\"Hmisc\")"
   ]
  },
  {
   "cell_type": "code",
   "execution_count": null,
   "metadata": {},
   "outputs": [],
   "source": []
  },
  {
   "cell_type": "code",
   "execution_count": null,
   "metadata": {},
   "outputs": [],
   "source": [
    "outdir = \"./Output/210820_FRNT/\"\n",
    "indir = \"./CSV/210820_FRNT/\""
   ]
  },
  {
   "cell_type": "code",
   "execution_count": null,
   "metadata": {},
   "outputs": [],
   "source": [
    "parse_file <- function(filename) {\n",
    "    df1 = read.csv(filename, header = FALSE, skip = 1, stringsAsFactors = FALSE)\n",
    "\n",
    "    df1_firstrow <- read.csv(filename,nrows=1, header=FALSE, stringsAsFactors = FALSE)\n",
    "    Virus = as.character(df1_firstrow[1,2])\n",
    "    Serum1 = df1_firstrow[1,4]\n",
    "    Serum2 = df1_firstrow[1,6]\n",
    "    StartConc = df1_firstrow[1,8]\n",
    "    DiluFactor = df1_firstrow[1,10]\n",
    "    PlateID = df1_firstrow[1,12]\n",
    "    DateID = df1_firstrow[1,14]\n",
    "    PassageID = df1_firstrow[1,16]\n",
    "    \n",
    "\n",
    "    Concentrations = c(StartConc/DiluFactor^(0:6), 0)\n",
    "   \n",
    "    df11 <- cbind(Concentrations, df1[, 1:6])\n",
    "    colnames(df11) <- c(\"Concentration\", \"Rep1\", \"Rep2\", \"Rep3\", \"Rep4\", \"Rep5\", \"Rep6\")\n",
    "    df12 = melt(df11, id=c(\"Concentration\")) \n",
    "    colnames(df12) = c(\"Concentration\", \"Rep\", \"Titers\")\n",
    "    df12\n",
    "    df13 = cbind(Virus, Serum1, PlateID, DateID, PassageID, df12)\n",
    "    colnames(df13) = c(\"Virus\", \"Serum\", \"PlateID\", \"DateID\", \"PassageID\", \"Concentration\", \"Rep\", \"Titers\")\n",
    "    \n",
    "    df21 <- cbind(Concentrations, df1[, 7:12])\n",
    "    colnames(df21) <- c(\"Concentration\", \"Rep1\", \"Rep2\", \"Rep3\", \"Rep4\", \"Rep5\", \"Rep6\")\n",
    "    df22 = melt(df21, id=c(\"Concentration\")) \n",
    "    colnames(df22) = c(\"Concentration\", \"Rep\", \"Titers\")\n",
    "    df22\n",
    "    df23 = cbind(Virus, Serum2, PlateID, DateID, PassageID, df22)\n",
    "    colnames(df23) = c(\"Virus\", \"Serum\", \"PlateID\", \"DateID\", \"PassageID\", \"Concentration\", \"Rep\", \"Titers\")\n",
    "\n",
    "    df1_all = rbind(df13, df23)\n",
    "    return(df1_all)\n",
    "}"
   ]
  },
  {
   "cell_type": "code",
   "execution_count": null,
   "metadata": {},
   "outputs": [],
   "source": [
    "file_list = list.files(path = indir, pattern = \".csv\", full.names = TRUE)"
   ]
  },
  {
   "cell_type": "code",
   "execution_count": null,
   "metadata": {},
   "outputs": [],
   "source": [
    "file_list"
   ]
  },
  {
   "cell_type": "code",
   "execution_count": null,
   "metadata": {},
   "outputs": [],
   "source": [
    "df <- data.frame(Virus=character(), Serum=character(), PlateID = character(), DateID=numeric(), PassageID=character(), Concentration=numeric(), Rep=character(),Titers=numeric(), stringsAsFactors=FALSE) \n",
    "for (i in file_list){\n",
    "    print(i)\n",
    "    file1 = parse_file(i)\n",
    "    df = rbind(df, file1)\n",
    "}\n",
    "\n",
    "df$SerumDate = paste0(df$Serum, \"-\", df$DateID)\n"
   ]
  },
  {
   "cell_type": "code",
   "execution_count": null,
   "metadata": {},
   "outputs": [],
   "source": [
    "#df=df[complete.cases(df), ]\n",
    "head(df)"
   ]
  },
  {
   "cell_type": "code",
   "execution_count": null,
   "metadata": {},
   "outputs": [],
   "source": [
    "#Serum_uniq = unique(df$Serum)\n",
    "#df_serum_set = subset(df, Serum == Serum_uniq[1])"
   ]
  },
  {
   "cell_type": "code",
   "execution_count": null,
   "metadata": {},
   "outputs": [],
   "source": [
    "#Virus_uniq = unique(df_serum_set$Virus)\n",
    "#df_serum_virus_set = subset(df_serum_set, Virus == Virus_uniq[1])"
   ]
  },
  {
   "cell_type": "code",
   "execution_count": null,
   "metadata": {},
   "outputs": [],
   "source": [
    "#curved_fit <- drm(formula = Titers ~ Concentration, data = df_serum_virus_set, fct = LL.3(names = c(\"hill\", \"max_value\", \"ec_50\")))"
   ]
  },
  {
   "cell_type": "code",
   "execution_count": null,
   "metadata": {},
   "outputs": [],
   "source": [
    "#parameters = data.frame(Serum=Serum_uniq[1], Virus=Virus_uniq[1], ec50=as.numeric(curved_fit$coef[3]), hill=as.numeric(curved_fit$coef[1]), max = as.numeric(curved_fit$coef[2]))\n",
    "#hill = as.numeric(curved_fit$coef[1])\n",
    "#max = as.numeric(curved_fit$coef[2])\n",
    "#ec50 = as.numeric(curved_fit$coef[3])"
   ]
  },
  {
   "cell_type": "code",
   "execution_count": null,
   "metadata": {},
   "outputs": [],
   "source": [
    "#df$Serum[1]"
   ]
  },
  {
   "cell_type": "code",
   "execution_count": null,
   "metadata": {},
   "outputs": [],
   "source": [
    "final_ec50 = data.frame(Serum=character(), Virus=numeric(), PassageID=character(), PlateID=character(), SerumDate=character(), PlateMinConc=numeric(), PlateMaxConc=numeric(), ec50=numeric(), hill=numeric(), max=numeric(), Report=character(), stringsAsFactors=FALSE) \n",
    "\n",
    "Serum_uniq = unique(df$SerumDate)\n",
    "for (i in Serum_uniq){\n",
    "    print(paste0(\"Serum: \", i))\n",
    "    df_serum_set = subset(df, SerumDate == i)\n",
    "    Virus_uniq = unique(df_serum_set$Virus)\n",
    "    #print(Virus_uniq)\n",
    "    for (j in Virus_uniq){\n",
    "        df_serum_virus_set = subset(df_serum_set, Virus == j)\n",
    "        min_conc <- min(df_serum_virus_set$Concentration[!df_serum_virus_set$Concentration == 0])\n",
    "        max_conc <- max(df_serum_virus_set$Concentration)\n",
    "        print(paste0(\"Virus: \", j))\n",
    "        curve_fit <- drm(formula = Titers ~ Concentration, data = df_serum_virus_set, fct = LL.3(names = c(\"hill\", \"max_value\", \"ec_50\")))\n",
    "        parameters = data.frame(Serum=df_serum_virus_set$Serum[1], \n",
    "                                Virus=j, \n",
    "                                PassageID=df_serum_virus_set$PassageID[1],\n",
    "                                PlateID=df_serum_virus_set$PlateID[1],\n",
    "                                SerumDate=i, PlateMinConc=min_conc, PlateMaxConc=max_conc, \n",
    "                                ec50=as.numeric(curve_fit$coef[3]), hill=as.numeric(curve_fit$coef[1]), max = as.numeric(curve_fit$coef[2]), Report=round(1/as.numeric(curve_fit$coef[3])))\n",
    "        if(as.numeric(curve_fit$coef[1]) < 0.5 | as.numeric(curve_fit$coef[1]) > 2){\n",
    "            curve_fit <- drm(formula = Titers ~ Concentration, data = df_serum_virus_set, fct = LL.3(fixed = c(1, NA, NA), names = c(\"hill\", \"max_value\", \"ec_50\")))\n",
    "            parameters = data.frame(Serum=df_serum_virus_set$Serum[1], \n",
    "                                Virus=j, \n",
    "                                PassageID=df_serum_virus_set$PassageID[1],\n",
    "                                PlateID=df_serum_virus_set$PlateID[1],\n",
    "                                SerumDate=i, PlateMinConc=min_conc, PlateMaxConc=max_conc, \n",
    "                                ec50=as.numeric(curve_fit$coef[2]), hill=1, max = as.numeric(curve_fit$coef[1]), Report=round(1/as.numeric(curve_fit$coef[2])))\n",
    "            #print(\"refitting\")\n",
    "            #print(i)\n",
    "            #print(j)\n",
    "        }\n",
    "        if(parameters$ec50 > 0.75 * max(df_serum_virus_set$Concentration)){\n",
    "            parameters$Report=paste0(\"< \", round(1/(0.75 * max(df_serum_virus_set$Concentration))))\n",
    "        }\n",
    "        #print(paste0(\"min_conc:\", min_conc))\n",
    "        #print(paste0(\"ec50 :\", parameters$ec50))\n",
    "        if(parameters$ec50 < 1.25 * min_conc){\n",
    "        #print(\"less than reached\")\n",
    "        #parameters$OutOfRange=\"Lowest Concentration of Serum is not low enough to get accurate EC50 measure\"\n",
    "           parameters$Report=paste0(\"> \", round(1/(1.25 * min_conc)))\n",
    "        }\n",
    "        final_ec50 = rbind(final_ec50, parameters)\n",
    "    }\n",
    "}\n"
   ]
  },
  {
   "cell_type": "code",
   "execution_count": null,
   "metadata": {},
   "outputs": [],
   "source": [
    "head(final_ec50)"
   ]
  },
  {
   "cell_type": "code",
   "execution_count": null,
   "metadata": {},
   "outputs": [],
   "source": [
    "ec80 = (80/20)^(1/final_ec50$hill)*final_ec50$ec50"
   ]
  },
  {
   "cell_type": "code",
   "execution_count": null,
   "metadata": {},
   "outputs": [],
   "source": [
    "ec70 = (70/30)^(1/final_ec50$hill)*final_ec50$ec50"
   ]
  },
  {
   "cell_type": "code",
   "execution_count": null,
   "metadata": {},
   "outputs": [],
   "source": [
    "ec60 = (60/40)^(1/final_ec50$hill)*final_ec50$ec50"
   ]
  },
  {
   "cell_type": "code",
   "execution_count": null,
   "metadata": {},
   "outputs": [],
   "source": [
    "final_ec50 = cbind(final_ec50, ec60, ec70, ec80)"
   ]
  },
  {
   "cell_type": "code",
   "execution_count": null,
   "metadata": {},
   "outputs": [],
   "source": [
    "final_ec50 = final_ec50[,c(1,2,3,4,5,6,7,8,12,13,14,9,10,11)]"
   ]
  },
  {
   "cell_type": "code",
   "execution_count": null,
   "metadata": {},
   "outputs": [],
   "source": [
    "head(final_ec50)"
   ]
  },
  {
   "cell_type": "code",
   "execution_count": null,
   "metadata": {},
   "outputs": [],
   "source": [
    "write.csv(final_ec50, file = paste0(outdir, \"final_ec50.csv\"), row.names = FALSE)"
   ]
  },
  {
   "cell_type": "code",
   "execution_count": null,
   "metadata": {},
   "outputs": [],
   "source": [
    "df_scale = merge(df, final_ec50, by = c(\"Serum\", \"Virus\", \"PassageID\", \"PlateID\", \"SerumDate\"))"
   ]
  },
  {
   "cell_type": "code",
   "execution_count": null,
   "metadata": {},
   "outputs": [],
   "source": [
    "df_scale$Percent = (df_scale$Titers/df_scale$max) * 100\n",
    "df_scale$Virus = as.character(df_scale$Virus)"
   ]
  },
  {
   "cell_type": "code",
   "execution_count": null,
   "metadata": {},
   "outputs": [],
   "source": [
    "head(df_scale)"
   ]
  },
  {
   "cell_type": "code",
   "execution_count": null,
   "metadata": {},
   "outputs": [],
   "source": [
    "df_serum_set = subset(df_scale , Serum == unique(df_scale$Serum)[1])\n",
    "df_serum_set = subset(df_serum_set, Concentration != 0)\n",
    "head(df_serum_set)"
   ]
  },
  {
   "cell_type": "code",
   "execution_count": null,
   "metadata": {},
   "outputs": [],
   "source": [
    "g = ggplot(df_serum_set, aes(x = log2(Concentration), y = Percent, color =SerumDate)) +\n",
    "  theme_bw() +\n",
    "  stat_summary(geom=\"point\", fun=mean) +\n",
    "  stat_summary(fun.data = mean_se, geom = \"errorbar\") +\n",
    "  stat_smooth(method = \"drm\", mapping = aes(color = as.character(SerumDate)), method.args = list(fct = L.3()), se = FALSE)"
   ]
  },
  {
   "cell_type": "code",
   "execution_count": null,
   "metadata": {},
   "outputs": [],
   "source": [
    "g = g + coord_cartesian(ylim=c(100, 0)) + scale_x_reverse(breaks = rev(seq(floor(range(log2(df_serum_set$Concentration))[1]), ceiling(range(log2(df_serum_set$Concentration))[2]), 1)),\n",
    "                       labels = -rev(seq(floor(range(log2(df_serum_set$Concentration))[1]), ceiling(range(log2(df_serum_set$Concentration))[2]), 1))) +\n",
    "  scale_y_continuous(breaks = seq(0, 100, 10),\n",
    "                     labels = 100 - seq(0, 100, 10)) +\n",
    "  geom_hline(yintercept=50, linetype=\"dashed\", color = \"red\", size=0.5) + \n",
    "  ylab(\"Percent Neutralization\") + xlab(\"log[Dilution]\") + ggtitle(Serum_uniq[1]) +\n",
    "  theme(plot.title = element_text(hjust = 0.5))"
   ]
  },
  {
   "cell_type": "code",
   "execution_count": null,
   "metadata": {},
   "outputs": [],
   "source": [
    "g"
   ]
  },
  {
   "cell_type": "code",
   "execution_count": null,
   "metadata": {},
   "outputs": [],
   "source": [
    "#ggsave(paste0(outdir, Serum_uniq[1], \".pdf\"), plot = g, device = pdf, width = 6, height = 4)\n"
   ]
  },
  {
   "cell_type": "code",
   "execution_count": null,
   "metadata": {},
   "outputs": [],
   "source": [
    "for(Serum_uniq in unique(df_scale$SerumDate)){\n",
    "    print(Serum_uniq)\n",
    "    df_serum_set = subset(df_scale , SerumDate == Serum_uniq[1])\n",
    "    df_serum_set = subset(df_serum_set, Concentration != 0)\n",
    "    g = ggplot(df_serum_set, aes(x = log2(Concentration), y = Percent, color = Virus)) +\n",
    "      theme_bw() +\n",
    "      stat_summary(geom=\"point\", fun=mean) +\n",
    "      stat_summary(fun.data = mean_se, geom = \"errorbar\") +\n",
    "      stat_smooth(method = \"drm\", mapping = aes(color = as.character(Virus)), method.args = list(fct = L.3()), se = FALSE)\n",
    "    g = g + coord_cartesian(ylim=c(100, 0)) + scale_x_reverse(breaks = rev(seq(floor(range(log2(df_serum_set$Concentration))[1]), ceiling(range(log2(df_serum_set$Concentration))[2]), 1)),\n",
    "                       labels = -rev(seq(floor(range(log2(df_serum_set$Concentration))[1]), ceiling(range(log2(df_serum_set$Concentration))[2]), 1))) +\n",
    "          scale_y_continuous(breaks = seq(0, 100, 10), labels = 100 - seq(0, 100, 10)) +\n",
    "          geom_hline(yintercept=50, linetype=\"dashed\", color = \"red\", size=0.5) + \n",
    "  ylab(\"Percent Neutralization\") + xlab(\"log[Dilution]\") + ggtitle(Serum_uniq[1]) +\n",
    "  theme(plot.title = element_text(hjust = 0.5))\n",
    "    ggsave(paste0(outdir, Serum_uniq, \".pdf\"), plot = g, device = pdf, width = 8, height = 4)\n",
    "     ggsave(paste0(outdir, Serum_uniq, \".png\"))\n",
    "    }"
   ]
  },
  {
   "cell_type": "code",
   "execution_count": null,
   "metadata": {},
   "outputs": [],
   "source": []
  },
  {
   "cell_type": "code",
   "execution_count": null,
   "metadata": {},
   "outputs": [],
   "source": []
  }
 ],
 "metadata": {
  "kernelspec": {
   "display_name": "R",
   "language": "R",
   "name": "ir"
  },
  "language_info": {
   "codemirror_mode": "r",
   "file_extension": ".r",
   "mimetype": "text/x-r-source",
   "name": "R",
   "pygments_lexer": "r",
   "version": "4.0.3"
  }
 },
 "nbformat": 4,
 "nbformat_minor": 4
}
