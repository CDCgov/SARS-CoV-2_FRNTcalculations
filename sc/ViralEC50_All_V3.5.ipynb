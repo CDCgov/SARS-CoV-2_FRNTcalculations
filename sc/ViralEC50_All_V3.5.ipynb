{
 "cells": [
  {
   "cell_type": "code",
   "execution_count": 169,
   "metadata": {},
   "outputs": [],
   "source": [
    "#install.packages(c(\"drc\", \"Hmisc\", \"reshape\"))"
   ]
  },
  {
   "cell_type": "code",
   "execution_count": 170,
   "metadata": {},
   "outputs": [],
   "source": [
    "library(\"tidyverse\")\n",
    "library(\"drc\")\n",
    "library(\"reshape\")\n",
    "library(\"Hmisc\")"
   ]
  },
  {
   "cell_type": "code",
   "execution_count": 171,
   "metadata": {},
   "outputs": [],
   "source": [
    "outdir = \"./Output/221208_FRNT/\"\n",
    "indir = \"./CSV/221208_FRNT/\""
   ]
  },
  {
   "cell_type": "code",
   "execution_count": 172,
   "metadata": {},
   "outputs": [],
   "source": [
    "parse_file <- function(filename) {\n",
    "    df1 = read.csv(filename, header = FALSE, skip = 1, stringsAsFactors = FALSE)\n",
    "\n",
    "    df1_firstrow <- read.csv(filename,nrows=1, header=FALSE, stringsAsFactors = FALSE)\n",
    "    Virus = as.character(df1_firstrow[1,2])\n",
    "    Serum1 = df1_firstrow[1,4]\n",
    "    Serum2 = df1_firstrow[1,6]\n",
    "    StartConc = df1_firstrow[1,8]\n",
    "    DiluFactor = df1_firstrow[1,10]\n",
    "    PlateID = df1_firstrow[1,12]\n",
    "    DateID = df1_firstrow[1,14]\n",
    "    PassageID = df1_firstrow[1,16]\n",
    "    \n",
    "\n",
    "    Concentrations = c(StartConc/DiluFactor^(0:6), 0)\n",
    "   \n",
    "    df11 <- cbind(Concentrations, df1[, 1:6])\n",
    "    colnames(df11) <- c(\"Concentration\", \"Rep1\", \"Rep2\", \"Rep3\", \"Rep4\", \"Rep5\", \"Rep6\")\n",
    "    df12 = melt(df11, id=c(\"Concentration\")) \n",
    "    colnames(df12) = c(\"Concentration\", \"Rep\", \"Titers\")\n",
    "    df12\n",
    "    df13 = cbind(Virus, Serum1, PlateID, DateID, PassageID, df12)\n",
    "    colnames(df13) = c(\"Virus\", \"Serum\", \"PlateID\", \"DateID\", \"PassageID\", \"Concentration\", \"Rep\", \"Titers\")\n",
    "    \n",
    "    df21 <- cbind(Concentrations, df1[, 7:12])\n",
    "    colnames(df21) <- c(\"Concentration\", \"Rep1\", \"Rep2\", \"Rep3\", \"Rep4\", \"Rep5\", \"Rep6\")\n",
    "    df22 = melt(df21, id=c(\"Concentration\")) \n",
    "    colnames(df22) = c(\"Concentration\", \"Rep\", \"Titers\")\n",
    "    df22\n",
    "    df23 = cbind(Virus, Serum2, PlateID, DateID, PassageID, df22)\n",
    "    colnames(df23) = c(\"Virus\", \"Serum\", \"PlateID\", \"DateID\", \"PassageID\", \"Concentration\", \"Rep\", \"Titers\")\n",
    "\n",
    "    df1_all = rbind(df13, df23)\n",
    "    return(df1_all)\n",
    "}"
   ]
  },
  {
   "cell_type": "code",
   "execution_count": 173,
   "metadata": {},
   "outputs": [],
   "source": [
    "file_list = list.files(path = indir, pattern = \".csv\", full.names = TRUE)"
   ]
  },
  {
   "cell_type": "code",
   "execution_count": 174,
   "metadata": {},
   "outputs": [
    {
     "data": {
      "text/html": [
       "<style>\n",
       ".list-inline {list-style: none; margin:0; padding: 0}\n",
       ".list-inline>li {display: inline-block}\n",
       ".list-inline>li:not(:last-child)::after {content: \"\\00b7\"; padding: 0 .5ex}\n",
       "</style>\n",
       "<ol class=list-inline><li>'./CSV/221208_FRNT//3015856016-VT3--V1-614D (bright)(D1)--3001241328-3001241322.csv'</li><li>'./CSV/221208_FRNT//3015856016-VT3--V1-614D (bright)(D1)--3001241329-3001241336.csv'</li><li>'./CSV/221208_FRNT//3015856016-VT3--V1-614D (bright)(D1)--V2010022B2-V2002080B2.csv'</li><li>'./CSV/221208_FRNT//3015856016-VT3--V1-614D (bright)(D1)--V2010026B2-V2010004B2.csv'</li><li>'./CSV/221208_FRNT//3015882100-2-VT3--V13-BA.1_bright_omicron (D1)--3001241328-3001241322.csv'</li><li>'./CSV/221208_FRNT//3015882100-2-VT3--V13-BA.1_bright_omicron (D1)--3001241329-3001241336.csv'</li><li>'./CSV/221208_FRNT//3015882100-2-VT3--V13-BA.1_bright_omicron (D1)--V2010022B2-V2002080B2.csv'</li><li>'./CSV/221208_FRNT//3015882100-2-VT3--V13-BA.1_bright_omicron (D1)--V2010026B2-V2010004B2.csv'</li><li>'./CSV/221208_FRNT//3015882100-VT3--V2-BA.1_bright_omicron (D1)--3001241328-3001241322.csv'</li><li>'./CSV/221208_FRNT//3015882100-VT3--V2-BA.1_bright_omicron (D1)--3001241329-3001241336.csv'</li><li>'./CSV/221208_FRNT//3015882100-VT3--V2-BA.1_bright_omicron (D1)--V2010022B2-V2002080B2.csv'</li><li>'./CSV/221208_FRNT//3015882100-VT3--V2-BA.1_bright_omicron (D1)--V2010026B2-V2010004B2.csv'</li><li>'./CSV/221208_FRNT//3015902582-VT3--V6-BA.5(bright omicron (D2)--3001241328-3001241322.csv'</li><li>'./CSV/221208_FRNT//3015902582-VT3--V6-BA.5(bright omicron (D2)--3001241329-3001241336.csv'</li><li>'./CSV/221208_FRNT//3015902582-VT3--V6-BA.5(bright omicron (D2)--V2010022B2-V2002080B2.csv'</li><li>'./CSV/221208_FRNT//3015902582-VT3--V6-BA.5(bright omicron (D2)--V2010026B2-V2010004B2.csv'</li><li>'./CSV/221208_FRNT//3015913105-VT3--V4-BA.2.75(Bette Korber)(D1)--3001241328-3001241322.csv'</li><li>'./CSV/221208_FRNT//3015913105-VT3--V4-BA.2.75(Bette Korber)(D1)--3001241329-3001241336.csv'</li><li>'./CSV/221208_FRNT//3015913105-VT3--V4-BA.2.75(Bette Korber)(D1)--V2010022B2-V2002080B2.csv'</li><li>'./CSV/221208_FRNT//3015913105-VT3--V4-BA.2.75(Bette Korber)(D1)--V2010026B2-V2010004B2.csv'</li><li>'./CSV/221208_FRNT//3015913702-VT2--V3-BA.2(bright omicron) (D2)--3001241328-3001241322.csv'</li><li>'./CSV/221208_FRNT//3015913702-VT2--V3-BA.2(bright omicron) (D2)--3001241329-3001241336.csv'</li><li>'./CSV/221208_FRNT//3015913702-VT2--V3-BA.2(bright omicron) (D2)--V2010022B2-V2002080B2.csv'</li><li>'./CSV/221208_FRNT//3015913702-VT2--V3-BA.2(bright omicron) (D2)--V2010026B2-V2010004B2.csv'</li><li>'./CSV/221208_FRNT//3015920009-VN0VT3--V5-BA.2.75.2 --3001241328-3001241322.csv'</li><li>'./CSV/221208_FRNT//3015920009-VN0VT3--V5-BA.2.75.2 --3001241329-3001241336.csv'</li><li>'./CSV/221208_FRNT//3015920009-VN0VT3--V5-BA.2.75.2 --V2010022B2-V2002080B2.csv'</li><li>'./CSV/221208_FRNT//3015920009-VN0VT3--V5-BA.2.75.2 --V2010026B2-V2010004B2.csv'</li><li>'./CSV/221208_FRNT//3015920682-VN0VT2--V7-BQ.1 --3001241328-3001241322.csv'</li><li>'./CSV/221208_FRNT//3015920682-VN0VT2--V7-BQ.1 --3001241329-3001241336.csv'</li><li>'./CSV/221208_FRNT//3015920682-VN0VT2--V7-BQ.1 --V2010022B2-V2002080B2.csv'</li><li>'./CSV/221208_FRNT//3015920682-VN0VT2--V7-BQ.1 --V2010026B2-V2010004B2.csv'</li><li>'./CSV/221208_FRNT//3015920687-VN0VT2--V8-BQ.1.1--3001241328-3001241322.csv'</li><li>'./CSV/221208_FRNT//3015920687-VN0VT2--V8-BQ.1.1--3001241329-3001241336.csv'</li><li>'./CSV/221208_FRNT//3015920687-VN0VT2--V8-BQ.1.1--V2010022B2-V2002080B2.csv'</li><li>'./CSV/221208_FRNT//3015920687-VN0VT2--V8-BQ.1.1--V2010026B2-V2010004B2.csv'</li><li>'./CSV/221208_FRNT//3015920688-VN0VT2--V9-XBB--3001241328-3001241322.csv'</li><li>'./CSV/221208_FRNT//3015920688-VN0VT2--V9-XBB--3001241329-3001241336.csv'</li><li>'./CSV/221208_FRNT//3015920688-VN0VT2--V9-XBB--V2010022B2-V2002080B2.csv'</li><li>'./CSV/221208_FRNT//3015920688-VN0VT2--V9-XBB--V2010026B2-V2010004B2.csv'</li><li>'./CSV/221208_FRNT//3015920692-VN0VT2--V10-XBB.1 --3001241328-3001241322.csv'</li><li>'./CSV/221208_FRNT//3015920692-VN0VT2--V10-XBB.1 --3001241329-3001241336.csv'</li><li>'./CSV/221208_FRNT//3015920692-VN0VT2--V10-XBB.1 --V2010022B2-V2002080B2.csv'</li><li>'./CSV/221208_FRNT//3015920692-VN0VT2--V10-XBB.1 --V2010026B2-V2010004B2.csv'</li><li>'./CSV/221208_FRNT//3015928536-VN0VT2--V11-BN.1--3001241328-3001241322.csv'</li><li>'./CSV/221208_FRNT//3015928536-VN0VT2--V11-BN.1--3001241329-3001241336.csv'</li><li>'./CSV/221208_FRNT//3015928536-VN0VT2--V11-BN.1--V2010022B2-V2002080B2.csv'</li><li>'./CSV/221208_FRNT//3015928536-VN0VT2--V11-BN.1--V2010026B2-V2010004B2.csv'</li><li>'./CSV/221208_FRNT//3015928539-VN0VT2--V12-BN.1--3001241328-3001241322.csv'</li><li>'./CSV/221208_FRNT//3015928539-VN0VT2--V12-BN.1--3001241329-3001241336.csv'</li><li>'./CSV/221208_FRNT//3015928539-VN0VT2--V12-BN.1--V2010022B2-V2002080B2.csv'</li><li>'./CSV/221208_FRNT//3015928539-VN0VT2--V12-BN.1--V2010026B2-V2010004B2.csv'</li></ol>\n"
      ],
      "text/latex": [
       "\\begin{enumerate*}\n",
       "\\item './CSV/221208\\_FRNT//3015856016-VT3--V1-614D (bright)(D1)--3001241328-3001241322.csv'\n",
       "\\item './CSV/221208\\_FRNT//3015856016-VT3--V1-614D (bright)(D1)--3001241329-3001241336.csv'\n",
       "\\item './CSV/221208\\_FRNT//3015856016-VT3--V1-614D (bright)(D1)--V2010022B2-V2002080B2.csv'\n",
       "\\item './CSV/221208\\_FRNT//3015856016-VT3--V1-614D (bright)(D1)--V2010026B2-V2010004B2.csv'\n",
       "\\item './CSV/221208\\_FRNT//3015882100-2-VT3--V13-BA.1\\_bright\\_omicron (D1)--3001241328-3001241322.csv'\n",
       "\\item './CSV/221208\\_FRNT//3015882100-2-VT3--V13-BA.1\\_bright\\_omicron (D1)--3001241329-3001241336.csv'\n",
       "\\item './CSV/221208\\_FRNT//3015882100-2-VT3--V13-BA.1\\_bright\\_omicron (D1)--V2010022B2-V2002080B2.csv'\n",
       "\\item './CSV/221208\\_FRNT//3015882100-2-VT3--V13-BA.1\\_bright\\_omicron (D1)--V2010026B2-V2010004B2.csv'\n",
       "\\item './CSV/221208\\_FRNT//3015882100-VT3--V2-BA.1\\_bright\\_omicron (D1)--3001241328-3001241322.csv'\n",
       "\\item './CSV/221208\\_FRNT//3015882100-VT3--V2-BA.1\\_bright\\_omicron (D1)--3001241329-3001241336.csv'\n",
       "\\item './CSV/221208\\_FRNT//3015882100-VT3--V2-BA.1\\_bright\\_omicron (D1)--V2010022B2-V2002080B2.csv'\n",
       "\\item './CSV/221208\\_FRNT//3015882100-VT3--V2-BA.1\\_bright\\_omicron (D1)--V2010026B2-V2010004B2.csv'\n",
       "\\item './CSV/221208\\_FRNT//3015902582-VT3--V6-BA.5(bright omicron (D2)--3001241328-3001241322.csv'\n",
       "\\item './CSV/221208\\_FRNT//3015902582-VT3--V6-BA.5(bright omicron (D2)--3001241329-3001241336.csv'\n",
       "\\item './CSV/221208\\_FRNT//3015902582-VT3--V6-BA.5(bright omicron (D2)--V2010022B2-V2002080B2.csv'\n",
       "\\item './CSV/221208\\_FRNT//3015902582-VT3--V6-BA.5(bright omicron (D2)--V2010026B2-V2010004B2.csv'\n",
       "\\item './CSV/221208\\_FRNT//3015913105-VT3--V4-BA.2.75(Bette Korber)(D1)--3001241328-3001241322.csv'\n",
       "\\item './CSV/221208\\_FRNT//3015913105-VT3--V4-BA.2.75(Bette Korber)(D1)--3001241329-3001241336.csv'\n",
       "\\item './CSV/221208\\_FRNT//3015913105-VT3--V4-BA.2.75(Bette Korber)(D1)--V2010022B2-V2002080B2.csv'\n",
       "\\item './CSV/221208\\_FRNT//3015913105-VT3--V4-BA.2.75(Bette Korber)(D1)--V2010026B2-V2010004B2.csv'\n",
       "\\item './CSV/221208\\_FRNT//3015913702-VT2--V3-BA.2(bright omicron) (D2)--3001241328-3001241322.csv'\n",
       "\\item './CSV/221208\\_FRNT//3015913702-VT2--V3-BA.2(bright omicron) (D2)--3001241329-3001241336.csv'\n",
       "\\item './CSV/221208\\_FRNT//3015913702-VT2--V3-BA.2(bright omicron) (D2)--V2010022B2-V2002080B2.csv'\n",
       "\\item './CSV/221208\\_FRNT//3015913702-VT2--V3-BA.2(bright omicron) (D2)--V2010026B2-V2010004B2.csv'\n",
       "\\item './CSV/221208\\_FRNT//3015920009-VN0VT3--V5-BA.2.75.2 --3001241328-3001241322.csv'\n",
       "\\item './CSV/221208\\_FRNT//3015920009-VN0VT3--V5-BA.2.75.2 --3001241329-3001241336.csv'\n",
       "\\item './CSV/221208\\_FRNT//3015920009-VN0VT3--V5-BA.2.75.2 --V2010022B2-V2002080B2.csv'\n",
       "\\item './CSV/221208\\_FRNT//3015920009-VN0VT3--V5-BA.2.75.2 --V2010026B2-V2010004B2.csv'\n",
       "\\item './CSV/221208\\_FRNT//3015920682-VN0VT2--V7-BQ.1 --3001241328-3001241322.csv'\n",
       "\\item './CSV/221208\\_FRNT//3015920682-VN0VT2--V7-BQ.1 --3001241329-3001241336.csv'\n",
       "\\item './CSV/221208\\_FRNT//3015920682-VN0VT2--V7-BQ.1 --V2010022B2-V2002080B2.csv'\n",
       "\\item './CSV/221208\\_FRNT//3015920682-VN0VT2--V7-BQ.1 --V2010026B2-V2010004B2.csv'\n",
       "\\item './CSV/221208\\_FRNT//3015920687-VN0VT2--V8-BQ.1.1--3001241328-3001241322.csv'\n",
       "\\item './CSV/221208\\_FRNT//3015920687-VN0VT2--V8-BQ.1.1--3001241329-3001241336.csv'\n",
       "\\item './CSV/221208\\_FRNT//3015920687-VN0VT2--V8-BQ.1.1--V2010022B2-V2002080B2.csv'\n",
       "\\item './CSV/221208\\_FRNT//3015920687-VN0VT2--V8-BQ.1.1--V2010026B2-V2010004B2.csv'\n",
       "\\item './CSV/221208\\_FRNT//3015920688-VN0VT2--V9-XBB--3001241328-3001241322.csv'\n",
       "\\item './CSV/221208\\_FRNT//3015920688-VN0VT2--V9-XBB--3001241329-3001241336.csv'\n",
       "\\item './CSV/221208\\_FRNT//3015920688-VN0VT2--V9-XBB--V2010022B2-V2002080B2.csv'\n",
       "\\item './CSV/221208\\_FRNT//3015920688-VN0VT2--V9-XBB--V2010026B2-V2010004B2.csv'\n",
       "\\item './CSV/221208\\_FRNT//3015920692-VN0VT2--V10-XBB.1 --3001241328-3001241322.csv'\n",
       "\\item './CSV/221208\\_FRNT//3015920692-VN0VT2--V10-XBB.1 --3001241329-3001241336.csv'\n",
       "\\item './CSV/221208\\_FRNT//3015920692-VN0VT2--V10-XBB.1 --V2010022B2-V2002080B2.csv'\n",
       "\\item './CSV/221208\\_FRNT//3015920692-VN0VT2--V10-XBB.1 --V2010026B2-V2010004B2.csv'\n",
       "\\item './CSV/221208\\_FRNT//3015928536-VN0VT2--V11-BN.1--3001241328-3001241322.csv'\n",
       "\\item './CSV/221208\\_FRNT//3015928536-VN0VT2--V11-BN.1--3001241329-3001241336.csv'\n",
       "\\item './CSV/221208\\_FRNT//3015928536-VN0VT2--V11-BN.1--V2010022B2-V2002080B2.csv'\n",
       "\\item './CSV/221208\\_FRNT//3015928536-VN0VT2--V11-BN.1--V2010026B2-V2010004B2.csv'\n",
       "\\item './CSV/221208\\_FRNT//3015928539-VN0VT2--V12-BN.1--3001241328-3001241322.csv'\n",
       "\\item './CSV/221208\\_FRNT//3015928539-VN0VT2--V12-BN.1--3001241329-3001241336.csv'\n",
       "\\item './CSV/221208\\_FRNT//3015928539-VN0VT2--V12-BN.1--V2010022B2-V2002080B2.csv'\n",
       "\\item './CSV/221208\\_FRNT//3015928539-VN0VT2--V12-BN.1--V2010026B2-V2010004B2.csv'\n",
       "\\end{enumerate*}\n"
      ],
      "text/markdown": [
       "1. './CSV/221208_FRNT//3015856016-VT3--V1-614D (bright)(D1)--3001241328-3001241322.csv'\n",
       "2. './CSV/221208_FRNT//3015856016-VT3--V1-614D (bright)(D1)--3001241329-3001241336.csv'\n",
       "3. './CSV/221208_FRNT//3015856016-VT3--V1-614D (bright)(D1)--V2010022B2-V2002080B2.csv'\n",
       "4. './CSV/221208_FRNT//3015856016-VT3--V1-614D (bright)(D1)--V2010026B2-V2010004B2.csv'\n",
       "5. './CSV/221208_FRNT//3015882100-2-VT3--V13-BA.1_bright_omicron (D1)--3001241328-3001241322.csv'\n",
       "6. './CSV/221208_FRNT//3015882100-2-VT3--V13-BA.1_bright_omicron (D1)--3001241329-3001241336.csv'\n",
       "7. './CSV/221208_FRNT//3015882100-2-VT3--V13-BA.1_bright_omicron (D1)--V2010022B2-V2002080B2.csv'\n",
       "8. './CSV/221208_FRNT//3015882100-2-VT3--V13-BA.1_bright_omicron (D1)--V2010026B2-V2010004B2.csv'\n",
       "9. './CSV/221208_FRNT//3015882100-VT3--V2-BA.1_bright_omicron (D1)--3001241328-3001241322.csv'\n",
       "10. './CSV/221208_FRNT//3015882100-VT3--V2-BA.1_bright_omicron (D1)--3001241329-3001241336.csv'\n",
       "11. './CSV/221208_FRNT//3015882100-VT3--V2-BA.1_bright_omicron (D1)--V2010022B2-V2002080B2.csv'\n",
       "12. './CSV/221208_FRNT//3015882100-VT3--V2-BA.1_bright_omicron (D1)--V2010026B2-V2010004B2.csv'\n",
       "13. './CSV/221208_FRNT//3015902582-VT3--V6-BA.5(bright omicron (D2)--3001241328-3001241322.csv'\n",
       "14. './CSV/221208_FRNT//3015902582-VT3--V6-BA.5(bright omicron (D2)--3001241329-3001241336.csv'\n",
       "15. './CSV/221208_FRNT//3015902582-VT3--V6-BA.5(bright omicron (D2)--V2010022B2-V2002080B2.csv'\n",
       "16. './CSV/221208_FRNT//3015902582-VT3--V6-BA.5(bright omicron (D2)--V2010026B2-V2010004B2.csv'\n",
       "17. './CSV/221208_FRNT//3015913105-VT3--V4-BA.2.75(Bette Korber)(D1)--3001241328-3001241322.csv'\n",
       "18. './CSV/221208_FRNT//3015913105-VT3--V4-BA.2.75(Bette Korber)(D1)--3001241329-3001241336.csv'\n",
       "19. './CSV/221208_FRNT//3015913105-VT3--V4-BA.2.75(Bette Korber)(D1)--V2010022B2-V2002080B2.csv'\n",
       "20. './CSV/221208_FRNT//3015913105-VT3--V4-BA.2.75(Bette Korber)(D1)--V2010026B2-V2010004B2.csv'\n",
       "21. './CSV/221208_FRNT//3015913702-VT2--V3-BA.2(bright omicron) (D2)--3001241328-3001241322.csv'\n",
       "22. './CSV/221208_FRNT//3015913702-VT2--V3-BA.2(bright omicron) (D2)--3001241329-3001241336.csv'\n",
       "23. './CSV/221208_FRNT//3015913702-VT2--V3-BA.2(bright omicron) (D2)--V2010022B2-V2002080B2.csv'\n",
       "24. './CSV/221208_FRNT//3015913702-VT2--V3-BA.2(bright omicron) (D2)--V2010026B2-V2010004B2.csv'\n",
       "25. './CSV/221208_FRNT//3015920009-VN0VT3--V5-BA.2.75.2 --3001241328-3001241322.csv'\n",
       "26. './CSV/221208_FRNT//3015920009-VN0VT3--V5-BA.2.75.2 --3001241329-3001241336.csv'\n",
       "27. './CSV/221208_FRNT//3015920009-VN0VT3--V5-BA.2.75.2 --V2010022B2-V2002080B2.csv'\n",
       "28. './CSV/221208_FRNT//3015920009-VN0VT3--V5-BA.2.75.2 --V2010026B2-V2010004B2.csv'\n",
       "29. './CSV/221208_FRNT//3015920682-VN0VT2--V7-BQ.1 --3001241328-3001241322.csv'\n",
       "30. './CSV/221208_FRNT//3015920682-VN0VT2--V7-BQ.1 --3001241329-3001241336.csv'\n",
       "31. './CSV/221208_FRNT//3015920682-VN0VT2--V7-BQ.1 --V2010022B2-V2002080B2.csv'\n",
       "32. './CSV/221208_FRNT//3015920682-VN0VT2--V7-BQ.1 --V2010026B2-V2010004B2.csv'\n",
       "33. './CSV/221208_FRNT//3015920687-VN0VT2--V8-BQ.1.1--3001241328-3001241322.csv'\n",
       "34. './CSV/221208_FRNT//3015920687-VN0VT2--V8-BQ.1.1--3001241329-3001241336.csv'\n",
       "35. './CSV/221208_FRNT//3015920687-VN0VT2--V8-BQ.1.1--V2010022B2-V2002080B2.csv'\n",
       "36. './CSV/221208_FRNT//3015920687-VN0VT2--V8-BQ.1.1--V2010026B2-V2010004B2.csv'\n",
       "37. './CSV/221208_FRNT//3015920688-VN0VT2--V9-XBB--3001241328-3001241322.csv'\n",
       "38. './CSV/221208_FRNT//3015920688-VN0VT2--V9-XBB--3001241329-3001241336.csv'\n",
       "39. './CSV/221208_FRNT//3015920688-VN0VT2--V9-XBB--V2010022B2-V2002080B2.csv'\n",
       "40. './CSV/221208_FRNT//3015920688-VN0VT2--V9-XBB--V2010026B2-V2010004B2.csv'\n",
       "41. './CSV/221208_FRNT//3015920692-VN0VT2--V10-XBB.1 --3001241328-3001241322.csv'\n",
       "42. './CSV/221208_FRNT//3015920692-VN0VT2--V10-XBB.1 --3001241329-3001241336.csv'\n",
       "43. './CSV/221208_FRNT//3015920692-VN0VT2--V10-XBB.1 --V2010022B2-V2002080B2.csv'\n",
       "44. './CSV/221208_FRNT//3015920692-VN0VT2--V10-XBB.1 --V2010026B2-V2010004B2.csv'\n",
       "45. './CSV/221208_FRNT//3015928536-VN0VT2--V11-BN.1--3001241328-3001241322.csv'\n",
       "46. './CSV/221208_FRNT//3015928536-VN0VT2--V11-BN.1--3001241329-3001241336.csv'\n",
       "47. './CSV/221208_FRNT//3015928536-VN0VT2--V11-BN.1--V2010022B2-V2002080B2.csv'\n",
       "48. './CSV/221208_FRNT//3015928536-VN0VT2--V11-BN.1--V2010026B2-V2010004B2.csv'\n",
       "49. './CSV/221208_FRNT//3015928539-VN0VT2--V12-BN.1--3001241328-3001241322.csv'\n",
       "50. './CSV/221208_FRNT//3015928539-VN0VT2--V12-BN.1--3001241329-3001241336.csv'\n",
       "51. './CSV/221208_FRNT//3015928539-VN0VT2--V12-BN.1--V2010022B2-V2002080B2.csv'\n",
       "52. './CSV/221208_FRNT//3015928539-VN0VT2--V12-BN.1--V2010026B2-V2010004B2.csv'\n",
       "\n",
       "\n"
      ],
      "text/plain": [
       " [1] \"./CSV/221208_FRNT//3015856016-VT3--V1-614D (bright)(D1)--3001241328-3001241322.csv\"          \n",
       " [2] \"./CSV/221208_FRNT//3015856016-VT3--V1-614D (bright)(D1)--3001241329-3001241336.csv\"          \n",
       " [3] \"./CSV/221208_FRNT//3015856016-VT3--V1-614D (bright)(D1)--V2010022B2-V2002080B2.csv\"          \n",
       " [4] \"./CSV/221208_FRNT//3015856016-VT3--V1-614D (bright)(D1)--V2010026B2-V2010004B2.csv\"          \n",
       " [5] \"./CSV/221208_FRNT//3015882100-2-VT3--V13-BA.1_bright_omicron (D1)--3001241328-3001241322.csv\"\n",
       " [6] \"./CSV/221208_FRNT//3015882100-2-VT3--V13-BA.1_bright_omicron (D1)--3001241329-3001241336.csv\"\n",
       " [7] \"./CSV/221208_FRNT//3015882100-2-VT3--V13-BA.1_bright_omicron (D1)--V2010022B2-V2002080B2.csv\"\n",
       " [8] \"./CSV/221208_FRNT//3015882100-2-VT3--V13-BA.1_bright_omicron (D1)--V2010026B2-V2010004B2.csv\"\n",
       " [9] \"./CSV/221208_FRNT//3015882100-VT3--V2-BA.1_bright_omicron (D1)--3001241328-3001241322.csv\"   \n",
       "[10] \"./CSV/221208_FRNT//3015882100-VT3--V2-BA.1_bright_omicron (D1)--3001241329-3001241336.csv\"   \n",
       "[11] \"./CSV/221208_FRNT//3015882100-VT3--V2-BA.1_bright_omicron (D1)--V2010022B2-V2002080B2.csv\"   \n",
       "[12] \"./CSV/221208_FRNT//3015882100-VT3--V2-BA.1_bright_omicron (D1)--V2010026B2-V2010004B2.csv\"   \n",
       "[13] \"./CSV/221208_FRNT//3015902582-VT3--V6-BA.5(bright omicron (D2)--3001241328-3001241322.csv\"   \n",
       "[14] \"./CSV/221208_FRNT//3015902582-VT3--V6-BA.5(bright omicron (D2)--3001241329-3001241336.csv\"   \n",
       "[15] \"./CSV/221208_FRNT//3015902582-VT3--V6-BA.5(bright omicron (D2)--V2010022B2-V2002080B2.csv\"   \n",
       "[16] \"./CSV/221208_FRNT//3015902582-VT3--V6-BA.5(bright omicron (D2)--V2010026B2-V2010004B2.csv\"   \n",
       "[17] \"./CSV/221208_FRNT//3015913105-VT3--V4-BA.2.75(Bette Korber)(D1)--3001241328-3001241322.csv\"  \n",
       "[18] \"./CSV/221208_FRNT//3015913105-VT3--V4-BA.2.75(Bette Korber)(D1)--3001241329-3001241336.csv\"  \n",
       "[19] \"./CSV/221208_FRNT//3015913105-VT3--V4-BA.2.75(Bette Korber)(D1)--V2010022B2-V2002080B2.csv\"  \n",
       "[20] \"./CSV/221208_FRNT//3015913105-VT3--V4-BA.2.75(Bette Korber)(D1)--V2010026B2-V2010004B2.csv\"  \n",
       "[21] \"./CSV/221208_FRNT//3015913702-VT2--V3-BA.2(bright omicron) (D2)--3001241328-3001241322.csv\"  \n",
       "[22] \"./CSV/221208_FRNT//3015913702-VT2--V3-BA.2(bright omicron) (D2)--3001241329-3001241336.csv\"  \n",
       "[23] \"./CSV/221208_FRNT//3015913702-VT2--V3-BA.2(bright omicron) (D2)--V2010022B2-V2002080B2.csv\"  \n",
       "[24] \"./CSV/221208_FRNT//3015913702-VT2--V3-BA.2(bright omicron) (D2)--V2010026B2-V2010004B2.csv\"  \n",
       "[25] \"./CSV/221208_FRNT//3015920009-VN0VT3--V5-BA.2.75.2 --3001241328-3001241322.csv\"              \n",
       "[26] \"./CSV/221208_FRNT//3015920009-VN0VT3--V5-BA.2.75.2 --3001241329-3001241336.csv\"              \n",
       "[27] \"./CSV/221208_FRNT//3015920009-VN0VT3--V5-BA.2.75.2 --V2010022B2-V2002080B2.csv\"              \n",
       "[28] \"./CSV/221208_FRNT//3015920009-VN0VT3--V5-BA.2.75.2 --V2010026B2-V2010004B2.csv\"              \n",
       "[29] \"./CSV/221208_FRNT//3015920682-VN0VT2--V7-BQ.1 --3001241328-3001241322.csv\"                   \n",
       "[30] \"./CSV/221208_FRNT//3015920682-VN0VT2--V7-BQ.1 --3001241329-3001241336.csv\"                   \n",
       "[31] \"./CSV/221208_FRNT//3015920682-VN0VT2--V7-BQ.1 --V2010022B2-V2002080B2.csv\"                   \n",
       "[32] \"./CSV/221208_FRNT//3015920682-VN0VT2--V7-BQ.1 --V2010026B2-V2010004B2.csv\"                   \n",
       "[33] \"./CSV/221208_FRNT//3015920687-VN0VT2--V8-BQ.1.1--3001241328-3001241322.csv\"                  \n",
       "[34] \"./CSV/221208_FRNT//3015920687-VN0VT2--V8-BQ.1.1--3001241329-3001241336.csv\"                  \n",
       "[35] \"./CSV/221208_FRNT//3015920687-VN0VT2--V8-BQ.1.1--V2010022B2-V2002080B2.csv\"                  \n",
       "[36] \"./CSV/221208_FRNT//3015920687-VN0VT2--V8-BQ.1.1--V2010026B2-V2010004B2.csv\"                  \n",
       "[37] \"./CSV/221208_FRNT//3015920688-VN0VT2--V9-XBB--3001241328-3001241322.csv\"                     \n",
       "[38] \"./CSV/221208_FRNT//3015920688-VN0VT2--V9-XBB--3001241329-3001241336.csv\"                     \n",
       "[39] \"./CSV/221208_FRNT//3015920688-VN0VT2--V9-XBB--V2010022B2-V2002080B2.csv\"                     \n",
       "[40] \"./CSV/221208_FRNT//3015920688-VN0VT2--V9-XBB--V2010026B2-V2010004B2.csv\"                     \n",
       "[41] \"./CSV/221208_FRNT//3015920692-VN0VT2--V10-XBB.1 --3001241328-3001241322.csv\"                 \n",
       "[42] \"./CSV/221208_FRNT//3015920692-VN0VT2--V10-XBB.1 --3001241329-3001241336.csv\"                 \n",
       "[43] \"./CSV/221208_FRNT//3015920692-VN0VT2--V10-XBB.1 --V2010022B2-V2002080B2.csv\"                 \n",
       "[44] \"./CSV/221208_FRNT//3015920692-VN0VT2--V10-XBB.1 --V2010026B2-V2010004B2.csv\"                 \n",
       "[45] \"./CSV/221208_FRNT//3015928536-VN0VT2--V11-BN.1--3001241328-3001241322.csv\"                   \n",
       "[46] \"./CSV/221208_FRNT//3015928536-VN0VT2--V11-BN.1--3001241329-3001241336.csv\"                   \n",
       "[47] \"./CSV/221208_FRNT//3015928536-VN0VT2--V11-BN.1--V2010022B2-V2002080B2.csv\"                   \n",
       "[48] \"./CSV/221208_FRNT//3015928536-VN0VT2--V11-BN.1--V2010026B2-V2010004B2.csv\"                   \n",
       "[49] \"./CSV/221208_FRNT//3015928539-VN0VT2--V12-BN.1--3001241328-3001241322.csv\"                   \n",
       "[50] \"./CSV/221208_FRNT//3015928539-VN0VT2--V12-BN.1--3001241329-3001241336.csv\"                   \n",
       "[51] \"./CSV/221208_FRNT//3015928539-VN0VT2--V12-BN.1--V2010022B2-V2002080B2.csv\"                   \n",
       "[52] \"./CSV/221208_FRNT//3015928539-VN0VT2--V12-BN.1--V2010026B2-V2010004B2.csv\"                   "
      ]
     },
     "metadata": {},
     "output_type": "display_data"
    }
   ],
   "source": [
    "file_list"
   ]
  },
  {
   "cell_type": "code",
   "execution_count": 200,
   "metadata": {},
   "outputs": [
    {
     "name": "stdout",
     "output_type": "stream",
     "text": [
      "[1] \"./CSV/221208_FRNT//3015856016-VT3--V1-614D (bright)(D1)--3001241328-3001241322.csv\"\n",
      "[1] \"./CSV/221208_FRNT//3015856016-VT3--V1-614D (bright)(D1)--3001241329-3001241336.csv\"\n",
      "[1] \"./CSV/221208_FRNT//3015856016-VT3--V1-614D (bright)(D1)--V2010022B2-V2002080B2.csv\"\n",
      "[1] \"./CSV/221208_FRNT//3015856016-VT3--V1-614D (bright)(D1)--V2010026B2-V2010004B2.csv\"\n",
      "[1] \"./CSV/221208_FRNT//3015882100-2-VT3--V13-BA.1_bright_omicron (D1)--3001241328-3001241322.csv\"\n",
      "[1] \"./CSV/221208_FRNT//3015882100-2-VT3--V13-BA.1_bright_omicron (D1)--3001241329-3001241336.csv\"\n",
      "[1] \"./CSV/221208_FRNT//3015882100-2-VT3--V13-BA.1_bright_omicron (D1)--V2010022B2-V2002080B2.csv\"\n",
      "[1] \"./CSV/221208_FRNT//3015882100-2-VT3--V13-BA.1_bright_omicron (D1)--V2010026B2-V2010004B2.csv\"\n",
      "[1] \"./CSV/221208_FRNT//3015882100-VT3--V2-BA.1_bright_omicron (D1)--3001241328-3001241322.csv\"\n",
      "[1] \"./CSV/221208_FRNT//3015882100-VT3--V2-BA.1_bright_omicron (D1)--3001241329-3001241336.csv\"\n",
      "[1] \"./CSV/221208_FRNT//3015882100-VT3--V2-BA.1_bright_omicron (D1)--V2010022B2-V2002080B2.csv\"\n",
      "[1] \"./CSV/221208_FRNT//3015882100-VT3--V2-BA.1_bright_omicron (D1)--V2010026B2-V2010004B2.csv\"\n",
      "[1] \"./CSV/221208_FRNT//3015902582-VT3--V6-BA.5(bright omicron (D2)--3001241328-3001241322.csv\"\n",
      "[1] \"./CSV/221208_FRNT//3015902582-VT3--V6-BA.5(bright omicron (D2)--3001241329-3001241336.csv\"\n",
      "[1] \"./CSV/221208_FRNT//3015902582-VT3--V6-BA.5(bright omicron (D2)--V2010022B2-V2002080B2.csv\"\n",
      "[1] \"./CSV/221208_FRNT//3015902582-VT3--V6-BA.5(bright omicron (D2)--V2010026B2-V2010004B2.csv\"\n",
      "[1] \"./CSV/221208_FRNT//3015913105-VT3--V4-BA.2.75(Bette Korber)(D1)--3001241328-3001241322.csv\"\n",
      "[1] \"./CSV/221208_FRNT//3015913105-VT3--V4-BA.2.75(Bette Korber)(D1)--3001241329-3001241336.csv\"\n",
      "[1] \"./CSV/221208_FRNT//3015913105-VT3--V4-BA.2.75(Bette Korber)(D1)--V2010022B2-V2002080B2.csv\"\n",
      "[1] \"./CSV/221208_FRNT//3015913105-VT3--V4-BA.2.75(Bette Korber)(D1)--V2010026B2-V2010004B2.csv\"\n",
      "[1] \"./CSV/221208_FRNT//3015913702-VT2--V3-BA.2(bright omicron) (D2)--3001241328-3001241322.csv\"\n",
      "[1] \"./CSV/221208_FRNT//3015913702-VT2--V3-BA.2(bright omicron) (D2)--3001241329-3001241336.csv\"\n",
      "[1] \"./CSV/221208_FRNT//3015913702-VT2--V3-BA.2(bright omicron) (D2)--V2010022B2-V2002080B2.csv\"\n",
      "[1] \"./CSV/221208_FRNT//3015913702-VT2--V3-BA.2(bright omicron) (D2)--V2010026B2-V2010004B2.csv\"\n",
      "[1] \"./CSV/221208_FRNT//3015920009-VN0VT3--V5-BA.2.75.2 --3001241328-3001241322.csv\"\n",
      "[1] \"./CSV/221208_FRNT//3015920009-VN0VT3--V5-BA.2.75.2 --3001241329-3001241336.csv\"\n",
      "[1] \"./CSV/221208_FRNT//3015920009-VN0VT3--V5-BA.2.75.2 --V2010022B2-V2002080B2.csv\"\n",
      "[1] \"./CSV/221208_FRNT//3015920009-VN0VT3--V5-BA.2.75.2 --V2010026B2-V2010004B2.csv\"\n",
      "[1] \"./CSV/221208_FRNT//3015920682-VN0VT2--V7-BQ.1 --3001241328-3001241322.csv\"\n",
      "[1] \"./CSV/221208_FRNT//3015920682-VN0VT2--V7-BQ.1 --3001241329-3001241336.csv\"\n",
      "[1] \"./CSV/221208_FRNT//3015920682-VN0VT2--V7-BQ.1 --V2010022B2-V2002080B2.csv\"\n",
      "[1] \"./CSV/221208_FRNT//3015920682-VN0VT2--V7-BQ.1 --V2010026B2-V2010004B2.csv\"\n",
      "[1] \"./CSV/221208_FRNT//3015920687-VN0VT2--V8-BQ.1.1--3001241328-3001241322.csv\"\n",
      "[1] \"./CSV/221208_FRNT//3015920687-VN0VT2--V8-BQ.1.1--3001241329-3001241336.csv\"\n",
      "[1] \"./CSV/221208_FRNT//3015920687-VN0VT2--V8-BQ.1.1--V2010022B2-V2002080B2.csv\"\n",
      "[1] \"./CSV/221208_FRNT//3015920687-VN0VT2--V8-BQ.1.1--V2010026B2-V2010004B2.csv\"\n",
      "[1] \"./CSV/221208_FRNT//3015920688-VN0VT2--V9-XBB--3001241328-3001241322.csv\"\n",
      "[1] \"./CSV/221208_FRNT//3015920688-VN0VT2--V9-XBB--3001241329-3001241336.csv\"\n",
      "[1] \"./CSV/221208_FRNT//3015920688-VN0VT2--V9-XBB--V2010022B2-V2002080B2.csv\"\n",
      "[1] \"./CSV/221208_FRNT//3015920688-VN0VT2--V9-XBB--V2010026B2-V2010004B2.csv\"\n",
      "[1] \"./CSV/221208_FRNT//3015920692-VN0VT2--V10-XBB.1 --3001241328-3001241322.csv\"\n",
      "[1] \"./CSV/221208_FRNT//3015920692-VN0VT2--V10-XBB.1 --3001241329-3001241336.csv\"\n",
      "[1] \"./CSV/221208_FRNT//3015920692-VN0VT2--V10-XBB.1 --V2010022B2-V2002080B2.csv\"\n",
      "[1] \"./CSV/221208_FRNT//3015920692-VN0VT2--V10-XBB.1 --V2010026B2-V2010004B2.csv\"\n",
      "[1] \"./CSV/221208_FRNT//3015928536-VN0VT2--V11-BN.1--3001241328-3001241322.csv\"\n",
      "[1] \"./CSV/221208_FRNT//3015928536-VN0VT2--V11-BN.1--3001241329-3001241336.csv\"\n",
      "[1] \"./CSV/221208_FRNT//3015928536-VN0VT2--V11-BN.1--V2010022B2-V2002080B2.csv\"\n",
      "[1] \"./CSV/221208_FRNT//3015928536-VN0VT2--V11-BN.1--V2010026B2-V2010004B2.csv\"\n",
      "[1] \"./CSV/221208_FRNT//3015928539-VN0VT2--V12-BN.1--3001241328-3001241322.csv\"\n",
      "[1] \"./CSV/221208_FRNT//3015928539-VN0VT2--V12-BN.1--3001241329-3001241336.csv\"\n",
      "[1] \"./CSV/221208_FRNT//3015928539-VN0VT2--V12-BN.1--V2010022B2-V2002080B2.csv\"\n",
      "[1] \"./CSV/221208_FRNT//3015928539-VN0VT2--V12-BN.1--V2010026B2-V2010004B2.csv\"\n"
     ]
    }
   ],
   "source": [
    "df <- data.frame(Virus=character(), Serum=character(), PlateID = character(), DateID=numeric(), PassageID=character(), Concentration=numeric(), Rep=character(),Titers=numeric(), stringsAsFactors=FALSE) \n",
    "tryCatch({\n",
    "        for (i in file_list){\n",
    "        print(i)\n",
    "        file1 = parse_file(i)\n",
    "        df = rbind(df, file1)\n",
    "    }\n",
    "\n",
    "    \n",
    "    }, error=function(e){cat(\"ERROR :\",conditionMessage(e), \"\\n\")})\n",
    "\n",
    "df$SerumDate = paste0(df$Serum, \"-\", df$DateID)\n"
   ]
  },
  {
   "cell_type": "code",
   "execution_count": 176,
   "metadata": {},
   "outputs": [
    {
     "data": {
      "text/html": [
       "<table class=\"dataframe\">\n",
       "<caption>A data.frame: 6 × 9</caption>\n",
       "<thead>\n",
       "\t<tr><th></th><th scope=col>Virus</th><th scope=col>Serum</th><th scope=col>PlateID</th><th scope=col>DateID</th><th scope=col>PassageID</th><th scope=col>Concentration</th><th scope=col>Rep</th><th scope=col>Titers</th><th scope=col>SerumDate</th></tr>\n",
       "\t<tr><th></th><th scope=col>&lt;chr&gt;</th><th scope=col>&lt;chr&gt;</th><th scope=col>&lt;chr&gt;</th><th scope=col>&lt;chr&gt;</th><th scope=col>&lt;chr&gt;</th><th scope=col>&lt;dbl&gt;</th><th scope=col>&lt;fct&gt;</th><th scope=col>&lt;int&gt;</th><th scope=col>&lt;chr&gt;</th></tr>\n",
       "</thead>\n",
       "<tbody>\n",
       "\t<tr><th scope=row>1</th><td>3015856016-VT3</td><td>3001241328</td><td>Plate 4V1_P1328_P1322</td><td>1_6_2023 2:16:29 PM</td><td>VT3</td><td>0.1000000000</td><td>Rep1</td><td> 1</td><td>3001241328-1_6_2023 2:16:29 PM</td></tr>\n",
       "\t<tr><th scope=row>2</th><td>3015856016-VT3</td><td>3001241328</td><td>Plate 4V1_P1328_P1322</td><td>1_6_2023 2:16:29 PM</td><td>VT3</td><td>0.0333333333</td><td>Rep1</td><td> 1</td><td>3001241328-1_6_2023 2:16:29 PM</td></tr>\n",
       "\t<tr><th scope=row>3</th><td>3015856016-VT3</td><td>3001241328</td><td>Plate 4V1_P1328_P1322</td><td>1_6_2023 2:16:29 PM</td><td>VT3</td><td>0.0111111111</td><td>Rep1</td><td> 1</td><td>3001241328-1_6_2023 2:16:29 PM</td></tr>\n",
       "\t<tr><th scope=row>4</th><td>3015856016-VT3</td><td>3001241328</td><td>Plate 4V1_P1328_P1322</td><td>1_6_2023 2:16:29 PM</td><td>VT3</td><td>0.0037037037</td><td>Rep1</td><td> 1</td><td>3001241328-1_6_2023 2:16:29 PM</td></tr>\n",
       "\t<tr><th scope=row>5</th><td>3015856016-VT3</td><td>3001241328</td><td>Plate 4V1_P1328_P1322</td><td>1_6_2023 2:16:29 PM</td><td>VT3</td><td>0.0012345679</td><td>Rep1</td><td> 7</td><td>3001241328-1_6_2023 2:16:29 PM</td></tr>\n",
       "\t<tr><th scope=row>6</th><td>3015856016-VT3</td><td>3001241328</td><td>Plate 4V1_P1328_P1322</td><td>1_6_2023 2:16:29 PM</td><td>VT3</td><td>0.0004115226</td><td>Rep1</td><td>34</td><td>3001241328-1_6_2023 2:16:29 PM</td></tr>\n",
       "</tbody>\n",
       "</table>\n"
      ],
      "text/latex": [
       "A data.frame: 6 × 9\n",
       "\\begin{tabular}{r|lllllllll}\n",
       "  & Virus & Serum & PlateID & DateID & PassageID & Concentration & Rep & Titers & SerumDate\\\\\n",
       "  & <chr> & <chr> & <chr> & <chr> & <chr> & <dbl> & <fct> & <int> & <chr>\\\\\n",
       "\\hline\n",
       "\t1 & 3015856016-VT3 & 3001241328 & Plate 4V1\\_P1328\\_P1322 & 1\\_6\\_2023 2:16:29 PM & VT3 & 0.1000000000 & Rep1 &  1 & 3001241328-1\\_6\\_2023 2:16:29 PM\\\\\n",
       "\t2 & 3015856016-VT3 & 3001241328 & Plate 4V1\\_P1328\\_P1322 & 1\\_6\\_2023 2:16:29 PM & VT3 & 0.0333333333 & Rep1 &  1 & 3001241328-1\\_6\\_2023 2:16:29 PM\\\\\n",
       "\t3 & 3015856016-VT3 & 3001241328 & Plate 4V1\\_P1328\\_P1322 & 1\\_6\\_2023 2:16:29 PM & VT3 & 0.0111111111 & Rep1 &  1 & 3001241328-1\\_6\\_2023 2:16:29 PM\\\\\n",
       "\t4 & 3015856016-VT3 & 3001241328 & Plate 4V1\\_P1328\\_P1322 & 1\\_6\\_2023 2:16:29 PM & VT3 & 0.0037037037 & Rep1 &  1 & 3001241328-1\\_6\\_2023 2:16:29 PM\\\\\n",
       "\t5 & 3015856016-VT3 & 3001241328 & Plate 4V1\\_P1328\\_P1322 & 1\\_6\\_2023 2:16:29 PM & VT3 & 0.0012345679 & Rep1 &  7 & 3001241328-1\\_6\\_2023 2:16:29 PM\\\\\n",
       "\t6 & 3015856016-VT3 & 3001241328 & Plate 4V1\\_P1328\\_P1322 & 1\\_6\\_2023 2:16:29 PM & VT3 & 0.0004115226 & Rep1 & 34 & 3001241328-1\\_6\\_2023 2:16:29 PM\\\\\n",
       "\\end{tabular}\n"
      ],
      "text/markdown": [
       "\n",
       "A data.frame: 6 × 9\n",
       "\n",
       "| <!--/--> | Virus &lt;chr&gt; | Serum &lt;chr&gt; | PlateID &lt;chr&gt; | DateID &lt;chr&gt; | PassageID &lt;chr&gt; | Concentration &lt;dbl&gt; | Rep &lt;fct&gt; | Titers &lt;int&gt; | SerumDate &lt;chr&gt; |\n",
       "|---|---|---|---|---|---|---|---|---|---|\n",
       "| 1 | 3015856016-VT3 | 3001241328 | Plate 4V1_P1328_P1322 | 1_6_2023 2:16:29 PM | VT3 | 0.1000000000 | Rep1 |  1 | 3001241328-1_6_2023 2:16:29 PM |\n",
       "| 2 | 3015856016-VT3 | 3001241328 | Plate 4V1_P1328_P1322 | 1_6_2023 2:16:29 PM | VT3 | 0.0333333333 | Rep1 |  1 | 3001241328-1_6_2023 2:16:29 PM |\n",
       "| 3 | 3015856016-VT3 | 3001241328 | Plate 4V1_P1328_P1322 | 1_6_2023 2:16:29 PM | VT3 | 0.0111111111 | Rep1 |  1 | 3001241328-1_6_2023 2:16:29 PM |\n",
       "| 4 | 3015856016-VT3 | 3001241328 | Plate 4V1_P1328_P1322 | 1_6_2023 2:16:29 PM | VT3 | 0.0037037037 | Rep1 |  1 | 3001241328-1_6_2023 2:16:29 PM |\n",
       "| 5 | 3015856016-VT3 | 3001241328 | Plate 4V1_P1328_P1322 | 1_6_2023 2:16:29 PM | VT3 | 0.0012345679 | Rep1 |  7 | 3001241328-1_6_2023 2:16:29 PM |\n",
       "| 6 | 3015856016-VT3 | 3001241328 | Plate 4V1_P1328_P1322 | 1_6_2023 2:16:29 PM | VT3 | 0.0004115226 | Rep1 | 34 | 3001241328-1_6_2023 2:16:29 PM |\n",
       "\n"
      ],
      "text/plain": [
       "  Virus          Serum      PlateID               DateID              PassageID\n",
       "1 3015856016-VT3 3001241328 Plate 4V1_P1328_P1322 1_6_2023 2:16:29 PM VT3      \n",
       "2 3015856016-VT3 3001241328 Plate 4V1_P1328_P1322 1_6_2023 2:16:29 PM VT3      \n",
       "3 3015856016-VT3 3001241328 Plate 4V1_P1328_P1322 1_6_2023 2:16:29 PM VT3      \n",
       "4 3015856016-VT3 3001241328 Plate 4V1_P1328_P1322 1_6_2023 2:16:29 PM VT3      \n",
       "5 3015856016-VT3 3001241328 Plate 4V1_P1328_P1322 1_6_2023 2:16:29 PM VT3      \n",
       "6 3015856016-VT3 3001241328 Plate 4V1_P1328_P1322 1_6_2023 2:16:29 PM VT3      \n",
       "  Concentration Rep  Titers SerumDate                     \n",
       "1 0.1000000000  Rep1  1     3001241328-1_6_2023 2:16:29 PM\n",
       "2 0.0333333333  Rep1  1     3001241328-1_6_2023 2:16:29 PM\n",
       "3 0.0111111111  Rep1  1     3001241328-1_6_2023 2:16:29 PM\n",
       "4 0.0037037037  Rep1  1     3001241328-1_6_2023 2:16:29 PM\n",
       "5 0.0012345679  Rep1  7     3001241328-1_6_2023 2:16:29 PM\n",
       "6 0.0004115226  Rep1 34     3001241328-1_6_2023 2:16:29 PM"
      ]
     },
     "metadata": {},
     "output_type": "display_data"
    }
   ],
   "source": [
    "#df=df[complete.cases(df), ]\n",
    "head(df)"
   ]
  },
  {
   "cell_type": "code",
   "execution_count": 177,
   "metadata": {},
   "outputs": [],
   "source": [
    "#Serum_uniq = unique(df$Serum)\n",
    "#df_serum_set = subset(df, Serum == Serum_uniq[1])"
   ]
  },
  {
   "cell_type": "code",
   "execution_count": 178,
   "metadata": {},
   "outputs": [],
   "source": [
    "#Virus_uniq = unique(df_serum_set$Virus)\n",
    "#df_serum_virus_set = subset(df_serum_set, Virus == Virus_uniq[1])"
   ]
  },
  {
   "cell_type": "code",
   "execution_count": 179,
   "metadata": {},
   "outputs": [],
   "source": [
    "#curved_fit <- drm(formula = Titers ~ Concentration, data = df_serum_virus_set, fct = LL.3(names = c(\"hill\", \"max_value\", \"ec_50\")))"
   ]
  },
  {
   "cell_type": "code",
   "execution_count": 180,
   "metadata": {},
   "outputs": [],
   "source": [
    "#parameters = data.frame(Serum=Serum_uniq[1], Virus=Virus_uniq[1], ec50=as.numeric(curved_fit$coef[3]), hill=as.numeric(curved_fit$coef[1]), max = as.numeric(curved_fit$coef[2]))\n",
    "#hill = as.numeric(curved_fit$coef[1])\n",
    "#max = as.numeric(curved_fit$coef[2])\n",
    "#ec50 = as.numeric(curved_fit$coef[3])"
   ]
  },
  {
   "cell_type": "code",
   "execution_count": 181,
   "metadata": {},
   "outputs": [],
   "source": [
    "#df$Serum[1]"
   ]
  },
  {
   "cell_type": "code",
   "execution_count": 182,
   "metadata": {},
   "outputs": [
    {
     "name": "stdout",
     "output_type": "stream",
     "text": [
      "[1] \"Serum: 3001241328-1_6_2023 2:16:29 PM\"\n",
      "[1] \"Virus: 3015856016-VT3\"\n",
      "[1] \"Serum: 3001241322-1_6_2023 2:16:29 PM\"\n",
      "[1] \"Virus: 3015856016-VT3\"\n",
      "[1] \"Serum: 3001241329-1_6_2023 2:16:28 PM\"\n",
      "[1] \"Virus: 3015856016-VT3\"\n",
      "[1] \"Serum: 3001241336-1_6_2023 2:16:28 PM\"\n",
      "[1] \"Virus: 3015856016-VT3\"\n",
      "[1] \"Serum: V2010022B2-1_6_2023 2:16:26 PM\"\n",
      "[1] \"Virus: 3015856016-VT3\"\n",
      "[1] \"Serum: V2002080B2-1_6_2023 2:16:26 PM\"\n",
      "[1] \"Virus: 3015856016-VT3\"\n",
      "Error in optim(startVec, opfct, hessian = TRUE, method = optMethod, control = list(maxit = maxIt,  : \n",
      "  non-finite finite-difference value [3]\n",
      "ERROR : Convergence failed \n",
      "[1] \"Serum: V2010026B2-1_6_2023 2:16:27 PM\"\n",
      "[1] \"Virus: 3015856016-VT3\"\n",
      "[1] \"Serum: V2010004B2-1_6_2023 2:16:27 PM\"\n",
      "[1] \"Virus: 3015856016-VT3\"\n",
      "[1] \"Serum: 3001241328-12_9_2022 2:27:57 PM\"\n",
      "[1] \"Virus: 3015882100-2-VT3\"\n",
      "[1] \"Serum: 3001241322-12_9_2022 2:27:57 PM\"\n",
      "[1] \"Virus: 3015882100-2-VT3\"\n",
      "[1] \"Serum: 3001241329-12_9_2022 2:27:57 PM\"\n",
      "[1] \"Virus: 3015882100-2-VT3\"\n",
      "[1] \"Serum: 3001241336-12_9_2022 2:27:57 PM\"\n",
      "[1] \"Virus: 3015882100-2-VT3\"\n",
      "[1] \"Serum: V2010022B2-12_9_2022 2:27:54 PM\"\n",
      "[1] \"Virus: 3015882100-2-VT3\"\n",
      "[1] \"Serum: V2002080B2-12_9_2022 2:27:54 PM\"\n",
      "[1] \"Virus: 3015882100-2-VT3\"\n",
      "[1] \"Serum: V2010026B2-12_9_2022 2:27:56 PM\"\n",
      "[1] \"Virus: 3015882100-2-VT3\"\n",
      "[1] \"Serum: V2010004B2-12_9_2022 2:27:56 PM\"\n",
      "[1] \"Virus: 3015882100-2-VT3\"\n",
      "[1] \"Serum: 3001241328-1_6_2023 2:16:25 PM\"\n",
      "[1] \"Virus: 3015882100-VT3\"\n",
      "[1] \"Serum: 3001241322-1_6_2023 2:16:25 PM\"\n",
      "[1] \"Virus: 3015882100-VT3\"\n",
      "[1] \"Serum: 3001241329-1_6_2023 2:16:25 PM\"\n",
      "[1] \"Virus: 3015882100-VT3\"\n",
      "[1] \"Serum: 3001241336-1_6_2023 2:16:25 PM\"\n",
      "[1] \"Virus: 3015882100-VT3\"\n",
      "[1] \"Serum: V2010022B2-1_6_2023 2:16:23 PM\"\n",
      "[1] \"Virus: 3015882100-VT3\"\n",
      "[1] \"Serum: V2002080B2-1_6_2023 2:16:23 PM\"\n",
      "[1] \"Virus: 3015882100-VT3\"\n",
      "Error in optim(startVec, opfct, hessian = TRUE, method = optMethod, control = list(maxit = maxIt,  : \n",
      "  non-finite finite-difference value [3]\n",
      "ERROR : Convergence failed \n",
      "[1] \"Serum: V2010026B2-1_6_2023 2:16:24 PM\"\n",
      "[1] \"Virus: 3015882100-VT3\"\n",
      "[1] \"Serum: V2010004B2-1_6_2023 2:16:24 PM\"\n",
      "[1] \"Virus: 3015882100-VT3\"\n",
      "[1] \"Serum: 3001241328-1_6_2023 2:16:11 PM\"\n",
      "[1] \"Virus: 3015902582-VT3\"\n",
      "[1] \"Serum: 3001241322-1_6_2023 2:16:11 PM\"\n",
      "[1] \"Virus: 3015902582-VT3\"\n",
      "[1] \"Serum: 3001241329-1_6_2023 2:16:10 PM\"\n",
      "[1] \"Virus: 3015902582-VT3\"\n",
      "[1] \"Serum: 3001241336-1_6_2023 2:16:10 PM\"\n",
      "[1] \"Virus: 3015902582-VT3\"\n",
      "[1] \"Serum: V2010022B2-1_6_2023 2:16:08 PM\"\n",
      "[1] \"Virus: 3015902582-VT3\"\n",
      "[1] \"Serum: V2002080B2-1_6_2023 2:16:08 PM\"\n",
      "[1] \"Virus: 3015902582-VT3\"\n",
      "Error in optim(startVec, opfct, hessian = TRUE, method = optMethod, control = list(maxit = maxIt,  : \n",
      "  non-finite finite-difference value [3]\n",
      "ERROR : Convergence failed \n",
      "[1] \"Serum: V2010026B2-1_6_2023 2:16:09 PM\"\n",
      "[1] \"Virus: 3015902582-VT3\"\n",
      "[1] \"Serum: V2010004B2-1_6_2023 2:16:09 PM\"\n",
      "[1] \"Virus: 3015902582-VT3\"\n",
      "[1] \"Serum: 3001241328-1_6_2023 2:16:18 PM\"\n",
      "[1] \"Virus: 3015913105-VT3\"\n",
      "[1] \"Serum: 3001241322-1_6_2023 2:16:18 PM\"\n",
      "[1] \"Virus: 3015913105-VT3\"\n",
      "[1] \"Serum: 3001241329-1_6_2023 2:16:17 PM\"\n",
      "[1] \"Virus: 3015913105-VT3\"\n",
      "[1] \"Serum: 3001241336-1_6_2023 2:16:17 PM\"\n",
      "[1] \"Virus: 3015913105-VT3\"\n",
      "[1] \"Serum: V2010022B2-1_6_2023 2:16:15 PM\"\n",
      "[1] \"Virus: 3015913105-VT3\"\n",
      "[1] \"Serum: V2002080B2-1_6_2023 2:16:15 PM\"\n",
      "[1] \"Virus: 3015913105-VT3\"\n",
      "[1] \"Serum: V2010026B2-1_6_2023 2:16:16 PM\"\n",
      "[1] \"Virus: 3015913105-VT3\"\n",
      "[1] \"Serum: V2010004B2-1_6_2023 2:16:16 PM\"\n",
      "[1] \"Virus: 3015913105-VT3\"\n",
      "[1] \"Serum: 3001241328-1_6_2023 2:16:22 PM\"\n",
      "[1] \"Virus: 3015913702-VT2\"\n",
      "[1] \"Serum: 3001241322-1_6_2023 2:16:22 PM\"\n",
      "[1] \"Virus: 3015913702-VT2\"\n",
      "[1] \"Serum: 3001241329-1_6_2023 2:16:21 PM\"\n",
      "[1] \"Virus: 3015913702-VT2\"\n",
      "[1] \"Serum: 3001241336-1_6_2023 2:16:21 PM\"\n",
      "[1] \"Virus: 3015913702-VT2\"\n",
      "[1] \"Serum: V2010022B2-1_6_2023 2:16:19 PM\"\n",
      "[1] \"Virus: 3015913702-VT2\"\n",
      "[1] \"Serum: V2002080B2-1_6_2023 2:16:19 PM\"\n",
      "[1] \"Virus: 3015913702-VT2\"\n",
      "Error in optim(startVec, opfct, hessian = TRUE, method = optMethod, control = list(maxit = maxIt,  : \n",
      "  non-finite finite-difference value [3]\n",
      "ERROR : Convergence failed \n",
      "[1] \"Serum: V2010026B2-1_6_2023 2:16:20 PM\"\n",
      "[1] \"Virus: 3015913702-VT2\"\n",
      "[1] \"Serum: V2010004B2-1_6_2023 2:16:20 PM\"\n",
      "[1] \"Virus: 3015913702-VT2\"\n",
      "[1] \"Serum: 3001241328-1_6_2023 2:16:15 PM\"\n",
      "[1] \"Virus: 3015920009-VN0VT3\"\n",
      "[1] \"Serum: 3001241322-1_6_2023 2:16:15 PM\"\n",
      "[1] \"Virus: 3015920009-VN0VT3\"\n",
      "[1] \"Serum: 3001241329-1_6_2023 2:16:14 PM\"\n",
      "[1] \"Virus: 3015920009-VN0VT3\"\n",
      "[1] \"Serum: 3001241336-1_6_2023 2:16:14 PM\"\n",
      "[1] \"Virus: 3015920009-VN0VT3\"\n",
      "[1] \"Serum: V2010022B2-1_6_2023 2:16:12 PM\"\n",
      "[1] \"Virus: 3015920009-VN0VT3\"\n",
      "[1] \"Serum: V2002080B2-1_6_2023 2:16:12 PM\"\n",
      "[1] \"Virus: 3015920009-VN0VT3\"\n",
      "[1] \"Serum: V2010026B2-1_6_2023 2:16:13 PM\"\n",
      "[1] \"Virus: 3015920009-VN0VT3\"\n",
      "[1] \"Serum: V2010004B2-1_6_2023 2:16:13 PM\"\n",
      "[1] \"Virus: 3015920009-VN0VT3\"\n",
      "[1] \"Serum: 3001241328-1_6_2023 2:16:07 PM\"\n",
      "[1] \"Virus: 3015920682-VN0VT2\"\n",
      "[1] \"Serum: 3001241322-1_6_2023 2:16:07 PM\"\n",
      "[1] \"Virus: 3015920682-VN0VT2\"\n",
      "[1] \"Serum: 3001241329-1_6_2023 2:16:06 PM\"\n",
      "[1] \"Virus: 3015920682-VN0VT2\"\n",
      "[1] \"Serum: 3001241336-1_6_2023 2:16:06 PM\"\n",
      "[1] \"Virus: 3015920682-VN0VT2\"\n",
      "[1] \"Serum: V2010022B2-1_6_2023 2:16:05 PM\"\n",
      "[1] \"Virus: 3015920682-VN0VT2\"\n",
      "[1] \"Serum: V2002080B2-1_6_2023 2:16:05 PM\"\n",
      "[1] \"Virus: 3015920682-VN0VT2\"\n",
      "[1] \"Serum: V2010026B2-1_6_2023 2:16:05 PM\"\n",
      "[1] \"Virus: 3015920682-VN0VT2\"\n",
      "[1] \"Serum: V2010004B2-1_6_2023 2:16:05 PM\"\n",
      "[1] \"Virus: 3015920682-VN0VT2\"\n",
      "[1] \"Serum: 3001241328-1_6_2023 2:16:04 PM\"\n",
      "[1] \"Virus: 3015920687-VN0VT2\"\n",
      "[1] \"Serum: 3001241322-1_6_2023 2:16:04 PM\"\n",
      "[1] \"Virus: 3015920687-VN0VT2\"\n",
      "[1] \"Serum: 3001241329-1_6_2023 2:16:03 PM\"\n",
      "[1] \"Virus: 3015920687-VN0VT2\"\n",
      "[1] \"Serum: 3001241336-1_6_2023 2:16:03 PM\"\n",
      "[1] \"Virus: 3015920687-VN0VT2\"\n",
      "[1] \"Serum: V2010022B2-1_6_2023 2:16:01 PM\"\n",
      "[1] \"Virus: 3015920687-VN0VT2\"\n",
      "[1] \"Serum: V2002080B2-1_6_2023 2:16:01 PM\"\n",
      "[1] \"Virus: 3015920687-VN0VT2\"\n",
      "[1] \"Serum: V2010026B2-1_6_2023 2:16:02 PM\"\n",
      "[1] \"Virus: 3015920687-VN0VT2\"\n",
      "[1] \"Serum: V2010004B2-1_6_2023 2:16:02 PM\"\n",
      "[1] \"Virus: 3015920687-VN0VT2\"\n",
      "[1] \"Serum: 3001241328-1_6_2023 2:16:00 PM\"\n",
      "[1] \"Virus: 3015920688-VN0VT2\"\n",
      "[1] \"Serum: 3001241322-1_6_2023 2:16:00 PM\"\n",
      "[1] \"Virus: 3015920688-VN0VT2\"\n",
      "[1] \"Serum: 3001241329-1_6_2023 2:15:59 PM\"\n",
      "[1] \"Virus: 3015920688-VN0VT2\"\n",
      "[1] \"Serum: 3001241336-1_6_2023 2:15:59 PM\"\n",
      "[1] \"Virus: 3015920688-VN0VT2\"\n",
      "[1] \"Serum: V2010022B2-1_6_2023 2:15:57 PM\"\n",
      "[1] \"Virus: 3015920688-VN0VT2\"\n",
      "[1] \"Serum: V2002080B2-1_6_2023 2:15:57 PM\"\n",
      "[1] \"Virus: 3015920688-VN0VT2\"\n",
      "[1] \"Serum: V2010026B2-1_6_2023 2:15:58 PM\"\n",
      "[1] \"Virus: 3015920688-VN0VT2\"\n",
      "[1] \"Serum: V2010004B2-1_6_2023 2:15:58 PM\"\n",
      "[1] \"Virus: 3015920688-VN0VT2\"\n",
      "[1] \"Serum: 3001241328-1_6_2023 2:15:57 PM\"\n",
      "[1] \"Virus: 3015920692-VN0VT2\"\n",
      "[1] \"Serum: 3001241322-1_6_2023 2:15:57 PM\"\n",
      "[1] \"Virus: 3015920692-VN0VT2\"\n",
      "[1] \"Serum: 3001241329-1_6_2023 2:15:56 PM\"\n",
      "[1] \"Virus: 3015920692-VN0VT2\"\n",
      "[1] \"Serum: 3001241336-1_6_2023 2:15:56 PM\"\n",
      "[1] \"Virus: 3015920692-VN0VT2\"\n",
      "[1] \"Serum: V2010022B2-1_6_2023 2:15:54 PM\"\n",
      "[1] \"Virus: 3015920692-VN0VT2\"\n",
      "[1] \"Serum: V2002080B2-1_6_2023 2:15:54 PM\"\n",
      "[1] \"Virus: 3015920692-VN0VT2\"\n",
      "[1] \"Serum: V2010026B2-1_6_2023 2:15:55 PM\"\n",
      "[1] \"Virus: 3015920692-VN0VT2\"\n",
      "[1] \"Serum: V2010004B2-1_6_2023 2:15:55 PM\"\n",
      "[1] \"Virus: 3015920692-VN0VT2\"\n",
      "[1] \"Serum: 3001241328-1_6_2023 2:15:53 PM\"\n",
      "[1] \"Virus: 3015928536-VN0VT2\"\n",
      "[1] \"Serum: 3001241322-1_6_2023 2:15:53 PM\"\n",
      "[1] \"Virus: 3015928536-VN0VT2\"\n",
      "[1] \"Serum: 3001241329-1_6_2023 2:15:52 PM\"\n",
      "[1] \"Virus: 3015928536-VN0VT2\"\n",
      "[1] \"Serum: 3001241336-1_6_2023 2:15:52 PM\"\n",
      "[1] \"Virus: 3015928536-VN0VT2\"\n",
      "[1] \"Serum: V2010022B2-1_6_2023 2:15:51 PM\"\n",
      "[1] \"Virus: 3015928536-VN0VT2\"\n",
      "[1] \"Serum: V2002080B2-1_6_2023 2:15:51 PM\"\n",
      "[1] \"Virus: 3015928536-VN0VT2\"\n",
      "[1] \"Serum: V2010026B2-1_6_2023 2:15:51 PM\"\n",
      "[1] \"Virus: 3015928536-VN0VT2\"\n",
      "[1] \"Serum: V2010004B2-1_6_2023 2:15:51 PM\"\n",
      "[1] \"Virus: 3015928536-VN0VT2\"\n",
      "[1] \"Serum: 3001241328-1_6_2023 2:15:50 PM\"\n",
      "[1] \"Virus: 3015928539-VN0VT2\"\n",
      "[1] \"Serum: 3001241322-1_6_2023 2:15:50 PM\"\n",
      "[1] \"Virus: 3015928539-VN0VT2\"\n",
      "[1] \"Serum: 3001241329-1_6_2023 2:15:49 PM\"\n",
      "[1] \"Virus: 3015928539-VN0VT2\"\n",
      "[1] \"Serum: 3001241336-1_6_2023 2:15:49 PM\"\n",
      "[1] \"Virus: 3015928539-VN0VT2\"\n",
      "[1] \"Serum: V2010022B2-1_6_2023 2:15:47 PM\"\n",
      "[1] \"Virus: 3015928539-VN0VT2\"\n",
      "[1] \"Serum: V2002080B2-1_6_2023 2:15:47 PM\"\n",
      "[1] \"Virus: 3015928539-VN0VT2\"\n",
      "[1] \"Serum: V2010026B2-1_6_2023 2:15:48 PM\"\n",
      "[1] \"Virus: 3015928539-VN0VT2\"\n",
      "[1] \"Serum: V2010004B2-1_6_2023 2:15:48 PM\"\n",
      "[1] \"Virus: 3015928539-VN0VT2\"\n"
     ]
    }
   ],
   "source": [
    "final_ec50 = data.frame(Serum=character(), Virus=numeric(), PassageID=character(), PlateID=character(), SerumDate=character(), PlateMinConc=numeric(), PlateMaxConc=numeric(), ec50=numeric(), hill=numeric(), max=numeric(), Report=character(), stringsAsFactors=FALSE) \n",
    "\n",
    "Serum_uniq = unique(df$SerumDate)\n",
    "\n",
    "for (i in Serum_uniq){\n",
    "\n",
    "    print(paste0(\"Serum: \", i))\n",
    "    df_serum_set = subset(df, SerumDate == i)\n",
    "    Virus_uniq = unique(df_serum_set$Virus)\n",
    "    #print(Virus_uniq)\n",
    "    for (j in Virus_uniq){\n",
    "        tryCatch({\n",
    "            df_serum_virus_set = subset(df_serum_set, Virus == j)\n",
    "            min_conc <- min(df_serum_virus_set$Concentration[!df_serum_virus_set$Concentration == 0])\n",
    "            max_conc <- max(df_serum_virus_set$Concentration)\n",
    "            print(paste0(\"Virus: \", j))\n",
    "            curve_fit <- drm(formula = Titers ~ Concentration, data = df_serum_virus_set, fct = LL.3(names = c(\"hill\", \"max_value\", \"ec_50\")))\n",
    "            parameters = data.frame(Serum=df_serum_virus_set$Serum[1], \n",
    "                                Virus=j, \n",
    "                                PassageID=df_serum_virus_set$PassageID[1],\n",
    "                                PlateID=df_serum_virus_set$PlateID[1],\n",
    "                                SerumDate=i, PlateMinConc=min_conc, PlateMaxConc=max_conc, \n",
    "                                ec50=as.numeric(curve_fit$coef[3]), hill=as.numeric(curve_fit$coef[1]), max = as.numeric(curve_fit$coef[2]), Report=round(1/as.numeric(curve_fit$coef[3])))\n",
    "            if(as.numeric(curve_fit$coef[1]) < 0.5 | as.numeric(curve_fit$coef[1]) > 2){\n",
    "                curve_fit <- drm(formula = Titers ~ Concentration, data = df_serum_virus_set, fct = LL.3(fixed = c(1, NA, NA), names = c(\"hill\", \"max_value\", \"ec_50\")))\n",
    "                parameters = data.frame(Serum=df_serum_virus_set$Serum[1], \n",
    "                                Virus=j, \n",
    "                                PassageID=df_serum_virus_set$PassageID[1],\n",
    "                                PlateID=df_serum_virus_set$PlateID[1],\n",
    "                                SerumDate=i, PlateMinConc=min_conc, PlateMaxConc=max_conc, \n",
    "                                ec50=as.numeric(curve_fit$coef[2]), hill=1, max = as.numeric(curve_fit$coef[1]), Report=round(1/as.numeric(curve_fit$coef[2])))\n",
    "                #print(\"refitting\")\n",
    "                #print(i)\n",
    "                #print(j)\n",
    "            }\n",
    "            if(parameters$ec50 > 0.75 * max(df_serum_virus_set$Concentration)){\n",
    "                parameters$Report=paste0(\"< \", round(1/(0.75 * max(df_serum_virus_set$Concentration))))\n",
    "            }\n",
    "            #print(paste0(\"min_conc:\", min_conc))\n",
    "            #print(paste0(\"ec50 :\", parameters$ec50))\n",
    "            if(parameters$ec50 < 1.25 * min_conc){\n",
    "            #print(\"less than reached\")\n",
    "            #parameters$OutOfRange=\"Lowest Concentration of Serum is not low enough to get accurate EC50 measure\"\n",
    "               parameters$Report=paste0(\"> \", round(1/(1.25 * min_conc)))\n",
    "        \n",
    "           }\n",
    "            \n",
    "        }, error=function(e){cat(\"ERROR :\",conditionMessage(e), \"\\n\")})\n",
    "    \n",
    "        \n",
    "        final_ec50 = rbind(final_ec50, parameters)\n",
    "    }\n",
    "}\n"
   ]
  },
  {
   "cell_type": "code",
   "execution_count": 183,
   "metadata": {},
   "outputs": [
    {
     "data": {
      "text/html": [
       "<table class=\"dataframe\">\n",
       "<caption>A data.frame: 6 × 11</caption>\n",
       "<thead>\n",
       "\t<tr><th></th><th scope=col>Serum</th><th scope=col>Virus</th><th scope=col>PassageID</th><th scope=col>PlateID</th><th scope=col>SerumDate</th><th scope=col>PlateMinConc</th><th scope=col>PlateMaxConc</th><th scope=col>ec50</th><th scope=col>hill</th><th scope=col>max</th><th scope=col>Report</th></tr>\n",
       "\t<tr><th></th><th scope=col>&lt;chr&gt;</th><th scope=col>&lt;chr&gt;</th><th scope=col>&lt;chr&gt;</th><th scope=col>&lt;chr&gt;</th><th scope=col>&lt;chr&gt;</th><th scope=col>&lt;dbl&gt;</th><th scope=col>&lt;dbl&gt;</th><th scope=col>&lt;dbl&gt;</th><th scope=col>&lt;dbl&gt;</th><th scope=col>&lt;dbl&gt;</th><th scope=col>&lt;chr&gt;</th></tr>\n",
       "</thead>\n",
       "<tbody>\n",
       "\t<tr><th scope=row>1</th><td>3001241328</td><td>3015856016-VT3</td><td>VT3</td><td>Plate 4V1_P1328_P1322</td><td>3001241328-1_6_2023 2:16:29 PM</td><td>0.0001371742</td><td>0.1</td><td>0.0002058901</td><td>1.384611</td><td>83.45996</td><td>4857  </td></tr>\n",
       "\t<tr><th scope=row>2</th><td>3001241322</td><td>3015856016-VT3</td><td>VT3</td><td>Plate 4V1_P1328_P1322</td><td>3001241322-1_6_2023 2:16:29 PM</td><td>0.0001371742</td><td>0.1</td><td>0.0001660172</td><td>1.291178</td><td>69.62347</td><td>&gt; 5832</td></tr>\n",
       "\t<tr><th scope=row>3</th><td>3001241329</td><td>3015856016-VT3</td><td>VT3</td><td>Plate 3V1_M1329_M1336</td><td>3001241329-1_6_2023 2:16:28 PM</td><td>0.0001371742</td><td>0.1</td><td>0.0001830527</td><td>1.169465</td><td>78.48992</td><td>5463  </td></tr>\n",
       "\t<tr><th scope=row>4</th><td>3001241336</td><td>3015856016-VT3</td><td>VT3</td><td>Plate 3V1_M1329_M1336</td><td>3001241336-1_6_2023 2:16:28 PM</td><td>0.0001371742</td><td>0.1</td><td>0.0001407274</td><td>1.282181</td><td>64.64115</td><td>&gt; 5832</td></tr>\n",
       "\t<tr><th scope=row>5</th><td>V2010022B2</td><td>3015856016-VT3</td><td>VT3</td><td>Plate 1V1_M22B2_P80B2</td><td>V2010022B2-1_6_2023 2:16:26 PM</td><td>0.0001371742</td><td>0.1</td><td>0.0003753500</td><td>1.071837</td><td>86.06561</td><td>2664  </td></tr>\n",
       "\t<tr><th scope=row>6</th><td>V2010022B2</td><td>3015856016-VT3</td><td>VT3</td><td>Plate 1V1_M22B2_P80B2</td><td>V2010022B2-1_6_2023 2:16:26 PM</td><td>0.0001371742</td><td>0.1</td><td>0.0003753500</td><td>1.071837</td><td>86.06561</td><td>2664  </td></tr>\n",
       "</tbody>\n",
       "</table>\n"
      ],
      "text/latex": [
       "A data.frame: 6 × 11\n",
       "\\begin{tabular}{r|lllllllllll}\n",
       "  & Serum & Virus & PassageID & PlateID & SerumDate & PlateMinConc & PlateMaxConc & ec50 & hill & max & Report\\\\\n",
       "  & <chr> & <chr> & <chr> & <chr> & <chr> & <dbl> & <dbl> & <dbl> & <dbl> & <dbl> & <chr>\\\\\n",
       "\\hline\n",
       "\t1 & 3001241328 & 3015856016-VT3 & VT3 & Plate 4V1\\_P1328\\_P1322 & 3001241328-1\\_6\\_2023 2:16:29 PM & 0.0001371742 & 0.1 & 0.0002058901 & 1.384611 & 83.45996 & 4857  \\\\\n",
       "\t2 & 3001241322 & 3015856016-VT3 & VT3 & Plate 4V1\\_P1328\\_P1322 & 3001241322-1\\_6\\_2023 2:16:29 PM & 0.0001371742 & 0.1 & 0.0001660172 & 1.291178 & 69.62347 & > 5832\\\\\n",
       "\t3 & 3001241329 & 3015856016-VT3 & VT3 & Plate 3V1\\_M1329\\_M1336 & 3001241329-1\\_6\\_2023 2:16:28 PM & 0.0001371742 & 0.1 & 0.0001830527 & 1.169465 & 78.48992 & 5463  \\\\\n",
       "\t4 & 3001241336 & 3015856016-VT3 & VT3 & Plate 3V1\\_M1329\\_M1336 & 3001241336-1\\_6\\_2023 2:16:28 PM & 0.0001371742 & 0.1 & 0.0001407274 & 1.282181 & 64.64115 & > 5832\\\\\n",
       "\t5 & V2010022B2 & 3015856016-VT3 & VT3 & Plate 1V1\\_M22B2\\_P80B2 & V2010022B2-1\\_6\\_2023 2:16:26 PM & 0.0001371742 & 0.1 & 0.0003753500 & 1.071837 & 86.06561 & 2664  \\\\\n",
       "\t6 & V2010022B2 & 3015856016-VT3 & VT3 & Plate 1V1\\_M22B2\\_P80B2 & V2010022B2-1\\_6\\_2023 2:16:26 PM & 0.0001371742 & 0.1 & 0.0003753500 & 1.071837 & 86.06561 & 2664  \\\\\n",
       "\\end{tabular}\n"
      ],
      "text/markdown": [
       "\n",
       "A data.frame: 6 × 11\n",
       "\n",
       "| <!--/--> | Serum &lt;chr&gt; | Virus &lt;chr&gt; | PassageID &lt;chr&gt; | PlateID &lt;chr&gt; | SerumDate &lt;chr&gt; | PlateMinConc &lt;dbl&gt; | PlateMaxConc &lt;dbl&gt; | ec50 &lt;dbl&gt; | hill &lt;dbl&gt; | max &lt;dbl&gt; | Report &lt;chr&gt; |\n",
       "|---|---|---|---|---|---|---|---|---|---|---|---|\n",
       "| 1 | 3001241328 | 3015856016-VT3 | VT3 | Plate 4V1_P1328_P1322 | 3001241328-1_6_2023 2:16:29 PM | 0.0001371742 | 0.1 | 0.0002058901 | 1.384611 | 83.45996 | 4857   |\n",
       "| 2 | 3001241322 | 3015856016-VT3 | VT3 | Plate 4V1_P1328_P1322 | 3001241322-1_6_2023 2:16:29 PM | 0.0001371742 | 0.1 | 0.0001660172 | 1.291178 | 69.62347 | &gt; 5832 |\n",
       "| 3 | 3001241329 | 3015856016-VT3 | VT3 | Plate 3V1_M1329_M1336 | 3001241329-1_6_2023 2:16:28 PM | 0.0001371742 | 0.1 | 0.0001830527 | 1.169465 | 78.48992 | 5463   |\n",
       "| 4 | 3001241336 | 3015856016-VT3 | VT3 | Plate 3V1_M1329_M1336 | 3001241336-1_6_2023 2:16:28 PM | 0.0001371742 | 0.1 | 0.0001407274 | 1.282181 | 64.64115 | &gt; 5832 |\n",
       "| 5 | V2010022B2 | 3015856016-VT3 | VT3 | Plate 1V1_M22B2_P80B2 | V2010022B2-1_6_2023 2:16:26 PM | 0.0001371742 | 0.1 | 0.0003753500 | 1.071837 | 86.06561 | 2664   |\n",
       "| 6 | V2010022B2 | 3015856016-VT3 | VT3 | Plate 1V1_M22B2_P80B2 | V2010022B2-1_6_2023 2:16:26 PM | 0.0001371742 | 0.1 | 0.0003753500 | 1.071837 | 86.06561 | 2664   |\n",
       "\n"
      ],
      "text/plain": [
       "  Serum      Virus          PassageID PlateID              \n",
       "1 3001241328 3015856016-VT3 VT3       Plate 4V1_P1328_P1322\n",
       "2 3001241322 3015856016-VT3 VT3       Plate 4V1_P1328_P1322\n",
       "3 3001241329 3015856016-VT3 VT3       Plate 3V1_M1329_M1336\n",
       "4 3001241336 3015856016-VT3 VT3       Plate 3V1_M1329_M1336\n",
       "5 V2010022B2 3015856016-VT3 VT3       Plate 1V1_M22B2_P80B2\n",
       "6 V2010022B2 3015856016-VT3 VT3       Plate 1V1_M22B2_P80B2\n",
       "  SerumDate                      PlateMinConc PlateMaxConc ec50        \n",
       "1 3001241328-1_6_2023 2:16:29 PM 0.0001371742 0.1          0.0002058901\n",
       "2 3001241322-1_6_2023 2:16:29 PM 0.0001371742 0.1          0.0001660172\n",
       "3 3001241329-1_6_2023 2:16:28 PM 0.0001371742 0.1          0.0001830527\n",
       "4 3001241336-1_6_2023 2:16:28 PM 0.0001371742 0.1          0.0001407274\n",
       "5 V2010022B2-1_6_2023 2:16:26 PM 0.0001371742 0.1          0.0003753500\n",
       "6 V2010022B2-1_6_2023 2:16:26 PM 0.0001371742 0.1          0.0003753500\n",
       "  hill     max      Report\n",
       "1 1.384611 83.45996 4857  \n",
       "2 1.291178 69.62347 > 5832\n",
       "3 1.169465 78.48992 5463  \n",
       "4 1.282181 64.64115 > 5832\n",
       "5 1.071837 86.06561 2664  \n",
       "6 1.071837 86.06561 2664  "
      ]
     },
     "metadata": {},
     "output_type": "display_data"
    }
   ],
   "source": [
    "head(final_ec50)"
   ]
  },
  {
   "cell_type": "code",
   "execution_count": 184,
   "metadata": {},
   "outputs": [],
   "source": [
    "ec80 = (80/20)^(1/final_ec50$hill)*final_ec50$ec50"
   ]
  },
  {
   "cell_type": "code",
   "execution_count": 185,
   "metadata": {},
   "outputs": [],
   "source": [
    "ec70 = (70/30)^(1/final_ec50$hill)*final_ec50$ec50"
   ]
  },
  {
   "cell_type": "code",
   "execution_count": 186,
   "metadata": {},
   "outputs": [],
   "source": [
    "ec60 = (60/40)^(1/final_ec50$hill)*final_ec50$ec50"
   ]
  },
  {
   "cell_type": "code",
   "execution_count": 187,
   "metadata": {},
   "outputs": [],
   "source": [
    "final_ec50 = cbind(final_ec50, ec60, ec70, ec80)"
   ]
  },
  {
   "cell_type": "code",
   "execution_count": 188,
   "metadata": {},
   "outputs": [],
   "source": [
    "final_ec50 = final_ec50[,c(1,2,3,4,5,6,7,8,12,13,14,9,10,11)]"
   ]
  },
  {
   "cell_type": "code",
   "execution_count": 189,
   "metadata": {},
   "outputs": [
    {
     "data": {
      "text/html": [
       "<table class=\"dataframe\">\n",
       "<caption>A data.frame: 6 × 14</caption>\n",
       "<thead>\n",
       "\t<tr><th></th><th scope=col>Serum</th><th scope=col>Virus</th><th scope=col>PassageID</th><th scope=col>PlateID</th><th scope=col>SerumDate</th><th scope=col>PlateMinConc</th><th scope=col>PlateMaxConc</th><th scope=col>ec50</th><th scope=col>ec60</th><th scope=col>ec70</th><th scope=col>ec80</th><th scope=col>hill</th><th scope=col>max</th><th scope=col>Report</th></tr>\n",
       "\t<tr><th></th><th scope=col>&lt;chr&gt;</th><th scope=col>&lt;chr&gt;</th><th scope=col>&lt;chr&gt;</th><th scope=col>&lt;chr&gt;</th><th scope=col>&lt;chr&gt;</th><th scope=col>&lt;dbl&gt;</th><th scope=col>&lt;dbl&gt;</th><th scope=col>&lt;dbl&gt;</th><th scope=col>&lt;dbl&gt;</th><th scope=col>&lt;dbl&gt;</th><th scope=col>&lt;dbl&gt;</th><th scope=col>&lt;dbl&gt;</th><th scope=col>&lt;dbl&gt;</th><th scope=col>&lt;chr&gt;</th></tr>\n",
       "</thead>\n",
       "<tbody>\n",
       "\t<tr><th scope=row>1</th><td>3001241328</td><td>3015856016-VT3</td><td>VT3</td><td>Plate 4V1_P1328_P1322</td><td>3001241328-1_6_2023 2:16:29 PM</td><td>0.0001371742</td><td>0.1</td><td>0.0002058901</td><td>0.0002759388</td><td>0.0003796621</td><td>0.0005603480</td><td>1.384611</td><td>83.45996</td><td>4857  </td></tr>\n",
       "\t<tr><th scope=row>2</th><td>3001241322</td><td>3015856016-VT3</td><td>VT3</td><td>Plate 4V1_P1328_P1322</td><td>3001241322-1_6_2023 2:16:29 PM</td><td>0.0001371742</td><td>0.1</td><td>0.0001660172</td><td>0.0002272654</td><td>0.0003199971</td><td>0.0004857807</td><td>1.291178</td><td>69.62347</td><td>&gt; 5832</td></tr>\n",
       "\t<tr><th scope=row>3</th><td>3001241329</td><td>3015856016-VT3</td><td>VT3</td><td>Plate 3V1_M1329_M1336</td><td>3001241329-1_6_2023 2:16:28 PM</td><td>0.0001371742</td><td>0.1</td><td>0.0001830527</td><td>0.0002589109</td><td>0.0003777723</td><td>0.0005989530</td><td>1.169465</td><td>78.48992</td><td>5463  </td></tr>\n",
       "\t<tr><th scope=row>4</th><td>3001241336</td><td>3015856016-VT3</td><td>VT3</td><td>Plate 3V1_M1329_M1336</td><td>3001241336-1_6_2023 2:16:28 PM</td><td>0.0001371742</td><td>0.1</td><td>0.0001407274</td><td>0.0001930705</td><td>0.0002725032</td><td>0.0004148948</td><td>1.282181</td><td>64.64115</td><td>&gt; 5832</td></tr>\n",
       "\t<tr><th scope=row>5</th><td>V2010022B2</td><td>3015856016-VT3</td><td>VT3</td><td>Plate 1V1_M22B2_P80B2</td><td>V2010022B2-1_6_2023 2:16:26 PM</td><td>0.0001371742</td><td>0.1</td><td>0.0003753500</td><td>0.0005479307</td><td>0.0008274666</td><td>0.0013681849</td><td>1.071837</td><td>86.06561</td><td>2664  </td></tr>\n",
       "\t<tr><th scope=row>6</th><td>V2010022B2</td><td>3015856016-VT3</td><td>VT3</td><td>Plate 1V1_M22B2_P80B2</td><td>V2010022B2-1_6_2023 2:16:26 PM</td><td>0.0001371742</td><td>0.1</td><td>0.0003753500</td><td>0.0005479307</td><td>0.0008274666</td><td>0.0013681849</td><td>1.071837</td><td>86.06561</td><td>2664  </td></tr>\n",
       "</tbody>\n",
       "</table>\n"
      ],
      "text/latex": [
       "A data.frame: 6 × 14\n",
       "\\begin{tabular}{r|llllllllllllll}\n",
       "  & Serum & Virus & PassageID & PlateID & SerumDate & PlateMinConc & PlateMaxConc & ec50 & ec60 & ec70 & ec80 & hill & max & Report\\\\\n",
       "  & <chr> & <chr> & <chr> & <chr> & <chr> & <dbl> & <dbl> & <dbl> & <dbl> & <dbl> & <dbl> & <dbl> & <dbl> & <chr>\\\\\n",
       "\\hline\n",
       "\t1 & 3001241328 & 3015856016-VT3 & VT3 & Plate 4V1\\_P1328\\_P1322 & 3001241328-1\\_6\\_2023 2:16:29 PM & 0.0001371742 & 0.1 & 0.0002058901 & 0.0002759388 & 0.0003796621 & 0.0005603480 & 1.384611 & 83.45996 & 4857  \\\\\n",
       "\t2 & 3001241322 & 3015856016-VT3 & VT3 & Plate 4V1\\_P1328\\_P1322 & 3001241322-1\\_6\\_2023 2:16:29 PM & 0.0001371742 & 0.1 & 0.0001660172 & 0.0002272654 & 0.0003199971 & 0.0004857807 & 1.291178 & 69.62347 & > 5832\\\\\n",
       "\t3 & 3001241329 & 3015856016-VT3 & VT3 & Plate 3V1\\_M1329\\_M1336 & 3001241329-1\\_6\\_2023 2:16:28 PM & 0.0001371742 & 0.1 & 0.0001830527 & 0.0002589109 & 0.0003777723 & 0.0005989530 & 1.169465 & 78.48992 & 5463  \\\\\n",
       "\t4 & 3001241336 & 3015856016-VT3 & VT3 & Plate 3V1\\_M1329\\_M1336 & 3001241336-1\\_6\\_2023 2:16:28 PM & 0.0001371742 & 0.1 & 0.0001407274 & 0.0001930705 & 0.0002725032 & 0.0004148948 & 1.282181 & 64.64115 & > 5832\\\\\n",
       "\t5 & V2010022B2 & 3015856016-VT3 & VT3 & Plate 1V1\\_M22B2\\_P80B2 & V2010022B2-1\\_6\\_2023 2:16:26 PM & 0.0001371742 & 0.1 & 0.0003753500 & 0.0005479307 & 0.0008274666 & 0.0013681849 & 1.071837 & 86.06561 & 2664  \\\\\n",
       "\t6 & V2010022B2 & 3015856016-VT3 & VT3 & Plate 1V1\\_M22B2\\_P80B2 & V2010022B2-1\\_6\\_2023 2:16:26 PM & 0.0001371742 & 0.1 & 0.0003753500 & 0.0005479307 & 0.0008274666 & 0.0013681849 & 1.071837 & 86.06561 & 2664  \\\\\n",
       "\\end{tabular}\n"
      ],
      "text/markdown": [
       "\n",
       "A data.frame: 6 × 14\n",
       "\n",
       "| <!--/--> | Serum &lt;chr&gt; | Virus &lt;chr&gt; | PassageID &lt;chr&gt; | PlateID &lt;chr&gt; | SerumDate &lt;chr&gt; | PlateMinConc &lt;dbl&gt; | PlateMaxConc &lt;dbl&gt; | ec50 &lt;dbl&gt; | ec60 &lt;dbl&gt; | ec70 &lt;dbl&gt; | ec80 &lt;dbl&gt; | hill &lt;dbl&gt; | max &lt;dbl&gt; | Report &lt;chr&gt; |\n",
       "|---|---|---|---|---|---|---|---|---|---|---|---|---|---|---|\n",
       "| 1 | 3001241328 | 3015856016-VT3 | VT3 | Plate 4V1_P1328_P1322 | 3001241328-1_6_2023 2:16:29 PM | 0.0001371742 | 0.1 | 0.0002058901 | 0.0002759388 | 0.0003796621 | 0.0005603480 | 1.384611 | 83.45996 | 4857   |\n",
       "| 2 | 3001241322 | 3015856016-VT3 | VT3 | Plate 4V1_P1328_P1322 | 3001241322-1_6_2023 2:16:29 PM | 0.0001371742 | 0.1 | 0.0001660172 | 0.0002272654 | 0.0003199971 | 0.0004857807 | 1.291178 | 69.62347 | &gt; 5832 |\n",
       "| 3 | 3001241329 | 3015856016-VT3 | VT3 | Plate 3V1_M1329_M1336 | 3001241329-1_6_2023 2:16:28 PM | 0.0001371742 | 0.1 | 0.0001830527 | 0.0002589109 | 0.0003777723 | 0.0005989530 | 1.169465 | 78.48992 | 5463   |\n",
       "| 4 | 3001241336 | 3015856016-VT3 | VT3 | Plate 3V1_M1329_M1336 | 3001241336-1_6_2023 2:16:28 PM | 0.0001371742 | 0.1 | 0.0001407274 | 0.0001930705 | 0.0002725032 | 0.0004148948 | 1.282181 | 64.64115 | &gt; 5832 |\n",
       "| 5 | V2010022B2 | 3015856016-VT3 | VT3 | Plate 1V1_M22B2_P80B2 | V2010022B2-1_6_2023 2:16:26 PM | 0.0001371742 | 0.1 | 0.0003753500 | 0.0005479307 | 0.0008274666 | 0.0013681849 | 1.071837 | 86.06561 | 2664   |\n",
       "| 6 | V2010022B2 | 3015856016-VT3 | VT3 | Plate 1V1_M22B2_P80B2 | V2010022B2-1_6_2023 2:16:26 PM | 0.0001371742 | 0.1 | 0.0003753500 | 0.0005479307 | 0.0008274666 | 0.0013681849 | 1.071837 | 86.06561 | 2664   |\n",
       "\n"
      ],
      "text/plain": [
       "  Serum      Virus          PassageID PlateID              \n",
       "1 3001241328 3015856016-VT3 VT3       Plate 4V1_P1328_P1322\n",
       "2 3001241322 3015856016-VT3 VT3       Plate 4V1_P1328_P1322\n",
       "3 3001241329 3015856016-VT3 VT3       Plate 3V1_M1329_M1336\n",
       "4 3001241336 3015856016-VT3 VT3       Plate 3V1_M1329_M1336\n",
       "5 V2010022B2 3015856016-VT3 VT3       Plate 1V1_M22B2_P80B2\n",
       "6 V2010022B2 3015856016-VT3 VT3       Plate 1V1_M22B2_P80B2\n",
       "  SerumDate                      PlateMinConc PlateMaxConc ec50        \n",
       "1 3001241328-1_6_2023 2:16:29 PM 0.0001371742 0.1          0.0002058901\n",
       "2 3001241322-1_6_2023 2:16:29 PM 0.0001371742 0.1          0.0001660172\n",
       "3 3001241329-1_6_2023 2:16:28 PM 0.0001371742 0.1          0.0001830527\n",
       "4 3001241336-1_6_2023 2:16:28 PM 0.0001371742 0.1          0.0001407274\n",
       "5 V2010022B2-1_6_2023 2:16:26 PM 0.0001371742 0.1          0.0003753500\n",
       "6 V2010022B2-1_6_2023 2:16:26 PM 0.0001371742 0.1          0.0003753500\n",
       "  ec60         ec70         ec80         hill     max      Report\n",
       "1 0.0002759388 0.0003796621 0.0005603480 1.384611 83.45996 4857  \n",
       "2 0.0002272654 0.0003199971 0.0004857807 1.291178 69.62347 > 5832\n",
       "3 0.0002589109 0.0003777723 0.0005989530 1.169465 78.48992 5463  \n",
       "4 0.0001930705 0.0002725032 0.0004148948 1.282181 64.64115 > 5832\n",
       "5 0.0005479307 0.0008274666 0.0013681849 1.071837 86.06561 2664  \n",
       "6 0.0005479307 0.0008274666 0.0013681849 1.071837 86.06561 2664  "
      ]
     },
     "metadata": {},
     "output_type": "display_data"
    }
   ],
   "source": [
    "head(final_ec50)"
   ]
  },
  {
   "cell_type": "code",
   "execution_count": 190,
   "metadata": {},
   "outputs": [],
   "source": [
    "write.csv(final_ec50, file = paste0(outdir, \"final_ec50.csv\"), row.names = FALSE)"
   ]
  },
  {
   "cell_type": "code",
   "execution_count": 191,
   "metadata": {},
   "outputs": [],
   "source": [
    "df_scale = merge(df, final_ec50, by = c(\"Serum\", \"Virus\", \"PassageID\", \"PlateID\", \"SerumDate\"))"
   ]
  },
  {
   "cell_type": "code",
   "execution_count": 192,
   "metadata": {},
   "outputs": [],
   "source": [
    "df_scale$Percent = (df_scale$Titers/df_scale$max) * 100\n",
    "df_scale$Virus = as.character(df_scale$Virus)"
   ]
  },
  {
   "cell_type": "code",
   "execution_count": 193,
   "metadata": {},
   "outputs": [
    {
     "data": {
      "text/html": [
       "<table class=\"dataframe\">\n",
       "<caption>A data.frame: 6 × 19</caption>\n",
       "<thead>\n",
       "\t<tr><th></th><th scope=col>Serum</th><th scope=col>Virus</th><th scope=col>PassageID</th><th scope=col>PlateID</th><th scope=col>SerumDate</th><th scope=col>DateID</th><th scope=col>Concentration</th><th scope=col>Rep</th><th scope=col>Titers</th><th scope=col>PlateMinConc</th><th scope=col>PlateMaxConc</th><th scope=col>ec50</th><th scope=col>ec60</th><th scope=col>ec70</th><th scope=col>ec80</th><th scope=col>hill</th><th scope=col>max</th><th scope=col>Report</th><th scope=col>Percent</th></tr>\n",
       "\t<tr><th></th><th scope=col>&lt;chr&gt;</th><th scope=col>&lt;chr&gt;</th><th scope=col>&lt;chr&gt;</th><th scope=col>&lt;chr&gt;</th><th scope=col>&lt;chr&gt;</th><th scope=col>&lt;chr&gt;</th><th scope=col>&lt;dbl&gt;</th><th scope=col>&lt;fct&gt;</th><th scope=col>&lt;int&gt;</th><th scope=col>&lt;dbl&gt;</th><th scope=col>&lt;dbl&gt;</th><th scope=col>&lt;dbl&gt;</th><th scope=col>&lt;dbl&gt;</th><th scope=col>&lt;dbl&gt;</th><th scope=col>&lt;dbl&gt;</th><th scope=col>&lt;dbl&gt;</th><th scope=col>&lt;dbl&gt;</th><th scope=col>&lt;chr&gt;</th><th scope=col>&lt;dbl&gt;</th></tr>\n",
       "</thead>\n",
       "<tbody>\n",
       "\t<tr><th scope=row>1</th><td>3001241322</td><td>3015856016-VT3</td><td>VT3</td><td>Plate 4V1_P1328_P1322</td><td>3001241322-1_6_2023 2:16:29 PM</td><td>1_6_2023 2:16:29 PM</td><td>0.0001371742</td><td>Rep1</td><td>45</td><td>0.0001371742</td><td>0.1</td><td>0.0001660172</td><td>0.0002272654</td><td>0.0003199971</td><td>0.0004857807</td><td>1.291178</td><td>69.62347</td><td>&gt; 5832</td><td>64.633374</td></tr>\n",
       "\t<tr><th scope=row>2</th><td>3001241322</td><td>3015856016-VT3</td><td>VT3</td><td>Plate 4V1_P1328_P1322</td><td>3001241322-1_6_2023 2:16:29 PM</td><td>1_6_2023 2:16:29 PM</td><td>0.0111111111</td><td>Rep1</td><td> 1</td><td>0.0001371742</td><td>0.1</td><td>0.0001660172</td><td>0.0002272654</td><td>0.0003199971</td><td>0.0004857807</td><td>1.291178</td><td>69.62347</td><td>&gt; 5832</td><td> 1.436297</td></tr>\n",
       "\t<tr><th scope=row>3</th><td>3001241322</td><td>3015856016-VT3</td><td>VT3</td><td>Plate 4V1_P1328_P1322</td><td>3001241322-1_6_2023 2:16:29 PM</td><td>1_6_2023 2:16:29 PM</td><td>0.0037037037</td><td>Rep1</td><td> 1</td><td>0.0001371742</td><td>0.1</td><td>0.0001660172</td><td>0.0002272654</td><td>0.0003199971</td><td>0.0004857807</td><td>1.291178</td><td>69.62347</td><td>&gt; 5832</td><td> 1.436297</td></tr>\n",
       "\t<tr><th scope=row>4</th><td>3001241322</td><td>3015856016-VT3</td><td>VT3</td><td>Plate 4V1_P1328_P1322</td><td>3001241322-1_6_2023 2:16:29 PM</td><td>1_6_2023 2:16:29 PM</td><td>0.0004115226</td><td>Rep1</td><td>20</td><td>0.0001371742</td><td>0.1</td><td>0.0001660172</td><td>0.0002272654</td><td>0.0003199971</td><td>0.0004857807</td><td>1.291178</td><td>69.62347</td><td>&gt; 5832</td><td>28.725944</td></tr>\n",
       "\t<tr><th scope=row>5</th><td>3001241322</td><td>3015856016-VT3</td><td>VT3</td><td>Plate 4V1_P1328_P1322</td><td>3001241322-1_6_2023 2:16:29 PM</td><td>1_6_2023 2:16:29 PM</td><td>0.0333333333</td><td>Rep1</td><td> 1</td><td>0.0001371742</td><td>0.1</td><td>0.0001660172</td><td>0.0002272654</td><td>0.0003199971</td><td>0.0004857807</td><td>1.291178</td><td>69.62347</td><td>&gt; 5832</td><td> 1.436297</td></tr>\n",
       "\t<tr><th scope=row>6</th><td>3001241322</td><td>3015856016-VT3</td><td>VT3</td><td>Plate 4V1_P1328_P1322</td><td>3001241322-1_6_2023 2:16:29 PM</td><td>1_6_2023 2:16:29 PM</td><td>0.0111111111</td><td>Rep3</td><td> 1</td><td>0.0001371742</td><td>0.1</td><td>0.0001660172</td><td>0.0002272654</td><td>0.0003199971</td><td>0.0004857807</td><td>1.291178</td><td>69.62347</td><td>&gt; 5832</td><td> 1.436297</td></tr>\n",
       "</tbody>\n",
       "</table>\n"
      ],
      "text/latex": [
       "A data.frame: 6 × 19\n",
       "\\begin{tabular}{r|lllllllllllllllllll}\n",
       "  & Serum & Virus & PassageID & PlateID & SerumDate & DateID & Concentration & Rep & Titers & PlateMinConc & PlateMaxConc & ec50 & ec60 & ec70 & ec80 & hill & max & Report & Percent\\\\\n",
       "  & <chr> & <chr> & <chr> & <chr> & <chr> & <chr> & <dbl> & <fct> & <int> & <dbl> & <dbl> & <dbl> & <dbl> & <dbl> & <dbl> & <dbl> & <dbl> & <chr> & <dbl>\\\\\n",
       "\\hline\n",
       "\t1 & 3001241322 & 3015856016-VT3 & VT3 & Plate 4V1\\_P1328\\_P1322 & 3001241322-1\\_6\\_2023 2:16:29 PM & 1\\_6\\_2023 2:16:29 PM & 0.0001371742 & Rep1 & 45 & 0.0001371742 & 0.1 & 0.0001660172 & 0.0002272654 & 0.0003199971 & 0.0004857807 & 1.291178 & 69.62347 & > 5832 & 64.633374\\\\\n",
       "\t2 & 3001241322 & 3015856016-VT3 & VT3 & Plate 4V1\\_P1328\\_P1322 & 3001241322-1\\_6\\_2023 2:16:29 PM & 1\\_6\\_2023 2:16:29 PM & 0.0111111111 & Rep1 &  1 & 0.0001371742 & 0.1 & 0.0001660172 & 0.0002272654 & 0.0003199971 & 0.0004857807 & 1.291178 & 69.62347 & > 5832 &  1.436297\\\\\n",
       "\t3 & 3001241322 & 3015856016-VT3 & VT3 & Plate 4V1\\_P1328\\_P1322 & 3001241322-1\\_6\\_2023 2:16:29 PM & 1\\_6\\_2023 2:16:29 PM & 0.0037037037 & Rep1 &  1 & 0.0001371742 & 0.1 & 0.0001660172 & 0.0002272654 & 0.0003199971 & 0.0004857807 & 1.291178 & 69.62347 & > 5832 &  1.436297\\\\\n",
       "\t4 & 3001241322 & 3015856016-VT3 & VT3 & Plate 4V1\\_P1328\\_P1322 & 3001241322-1\\_6\\_2023 2:16:29 PM & 1\\_6\\_2023 2:16:29 PM & 0.0004115226 & Rep1 & 20 & 0.0001371742 & 0.1 & 0.0001660172 & 0.0002272654 & 0.0003199971 & 0.0004857807 & 1.291178 & 69.62347 & > 5832 & 28.725944\\\\\n",
       "\t5 & 3001241322 & 3015856016-VT3 & VT3 & Plate 4V1\\_P1328\\_P1322 & 3001241322-1\\_6\\_2023 2:16:29 PM & 1\\_6\\_2023 2:16:29 PM & 0.0333333333 & Rep1 &  1 & 0.0001371742 & 0.1 & 0.0001660172 & 0.0002272654 & 0.0003199971 & 0.0004857807 & 1.291178 & 69.62347 & > 5832 &  1.436297\\\\\n",
       "\t6 & 3001241322 & 3015856016-VT3 & VT3 & Plate 4V1\\_P1328\\_P1322 & 3001241322-1\\_6\\_2023 2:16:29 PM & 1\\_6\\_2023 2:16:29 PM & 0.0111111111 & Rep3 &  1 & 0.0001371742 & 0.1 & 0.0001660172 & 0.0002272654 & 0.0003199971 & 0.0004857807 & 1.291178 & 69.62347 & > 5832 &  1.436297\\\\\n",
       "\\end{tabular}\n"
      ],
      "text/markdown": [
       "\n",
       "A data.frame: 6 × 19\n",
       "\n",
       "| <!--/--> | Serum &lt;chr&gt; | Virus &lt;chr&gt; | PassageID &lt;chr&gt; | PlateID &lt;chr&gt; | SerumDate &lt;chr&gt; | DateID &lt;chr&gt; | Concentration &lt;dbl&gt; | Rep &lt;fct&gt; | Titers &lt;int&gt; | PlateMinConc &lt;dbl&gt; | PlateMaxConc &lt;dbl&gt; | ec50 &lt;dbl&gt; | ec60 &lt;dbl&gt; | ec70 &lt;dbl&gt; | ec80 &lt;dbl&gt; | hill &lt;dbl&gt; | max &lt;dbl&gt; | Report &lt;chr&gt; | Percent &lt;dbl&gt; |\n",
       "|---|---|---|---|---|---|---|---|---|---|---|---|---|---|---|---|---|---|---|---|\n",
       "| 1 | 3001241322 | 3015856016-VT3 | VT3 | Plate 4V1_P1328_P1322 | 3001241322-1_6_2023 2:16:29 PM | 1_6_2023 2:16:29 PM | 0.0001371742 | Rep1 | 45 | 0.0001371742 | 0.1 | 0.0001660172 | 0.0002272654 | 0.0003199971 | 0.0004857807 | 1.291178 | 69.62347 | &gt; 5832 | 64.633374 |\n",
       "| 2 | 3001241322 | 3015856016-VT3 | VT3 | Plate 4V1_P1328_P1322 | 3001241322-1_6_2023 2:16:29 PM | 1_6_2023 2:16:29 PM | 0.0111111111 | Rep1 |  1 | 0.0001371742 | 0.1 | 0.0001660172 | 0.0002272654 | 0.0003199971 | 0.0004857807 | 1.291178 | 69.62347 | &gt; 5832 |  1.436297 |\n",
       "| 3 | 3001241322 | 3015856016-VT3 | VT3 | Plate 4V1_P1328_P1322 | 3001241322-1_6_2023 2:16:29 PM | 1_6_2023 2:16:29 PM | 0.0037037037 | Rep1 |  1 | 0.0001371742 | 0.1 | 0.0001660172 | 0.0002272654 | 0.0003199971 | 0.0004857807 | 1.291178 | 69.62347 | &gt; 5832 |  1.436297 |\n",
       "| 4 | 3001241322 | 3015856016-VT3 | VT3 | Plate 4V1_P1328_P1322 | 3001241322-1_6_2023 2:16:29 PM | 1_6_2023 2:16:29 PM | 0.0004115226 | Rep1 | 20 | 0.0001371742 | 0.1 | 0.0001660172 | 0.0002272654 | 0.0003199971 | 0.0004857807 | 1.291178 | 69.62347 | &gt; 5832 | 28.725944 |\n",
       "| 5 | 3001241322 | 3015856016-VT3 | VT3 | Plate 4V1_P1328_P1322 | 3001241322-1_6_2023 2:16:29 PM | 1_6_2023 2:16:29 PM | 0.0333333333 | Rep1 |  1 | 0.0001371742 | 0.1 | 0.0001660172 | 0.0002272654 | 0.0003199971 | 0.0004857807 | 1.291178 | 69.62347 | &gt; 5832 |  1.436297 |\n",
       "| 6 | 3001241322 | 3015856016-VT3 | VT3 | Plate 4V1_P1328_P1322 | 3001241322-1_6_2023 2:16:29 PM | 1_6_2023 2:16:29 PM | 0.0111111111 | Rep3 |  1 | 0.0001371742 | 0.1 | 0.0001660172 | 0.0002272654 | 0.0003199971 | 0.0004857807 | 1.291178 | 69.62347 | &gt; 5832 |  1.436297 |\n",
       "\n"
      ],
      "text/plain": [
       "  Serum      Virus          PassageID PlateID              \n",
       "1 3001241322 3015856016-VT3 VT3       Plate 4V1_P1328_P1322\n",
       "2 3001241322 3015856016-VT3 VT3       Plate 4V1_P1328_P1322\n",
       "3 3001241322 3015856016-VT3 VT3       Plate 4V1_P1328_P1322\n",
       "4 3001241322 3015856016-VT3 VT3       Plate 4V1_P1328_P1322\n",
       "5 3001241322 3015856016-VT3 VT3       Plate 4V1_P1328_P1322\n",
       "6 3001241322 3015856016-VT3 VT3       Plate 4V1_P1328_P1322\n",
       "  SerumDate                      DateID              Concentration Rep  Titers\n",
       "1 3001241322-1_6_2023 2:16:29 PM 1_6_2023 2:16:29 PM 0.0001371742  Rep1 45    \n",
       "2 3001241322-1_6_2023 2:16:29 PM 1_6_2023 2:16:29 PM 0.0111111111  Rep1  1    \n",
       "3 3001241322-1_6_2023 2:16:29 PM 1_6_2023 2:16:29 PM 0.0037037037  Rep1  1    \n",
       "4 3001241322-1_6_2023 2:16:29 PM 1_6_2023 2:16:29 PM 0.0004115226  Rep1 20    \n",
       "5 3001241322-1_6_2023 2:16:29 PM 1_6_2023 2:16:29 PM 0.0333333333  Rep1  1    \n",
       "6 3001241322-1_6_2023 2:16:29 PM 1_6_2023 2:16:29 PM 0.0111111111  Rep3  1    \n",
       "  PlateMinConc PlateMaxConc ec50         ec60         ec70         ec80        \n",
       "1 0.0001371742 0.1          0.0001660172 0.0002272654 0.0003199971 0.0004857807\n",
       "2 0.0001371742 0.1          0.0001660172 0.0002272654 0.0003199971 0.0004857807\n",
       "3 0.0001371742 0.1          0.0001660172 0.0002272654 0.0003199971 0.0004857807\n",
       "4 0.0001371742 0.1          0.0001660172 0.0002272654 0.0003199971 0.0004857807\n",
       "5 0.0001371742 0.1          0.0001660172 0.0002272654 0.0003199971 0.0004857807\n",
       "6 0.0001371742 0.1          0.0001660172 0.0002272654 0.0003199971 0.0004857807\n",
       "  hill     max      Report Percent  \n",
       "1 1.291178 69.62347 > 5832 64.633374\n",
       "2 1.291178 69.62347 > 5832  1.436297\n",
       "3 1.291178 69.62347 > 5832  1.436297\n",
       "4 1.291178 69.62347 > 5832 28.725944\n",
       "5 1.291178 69.62347 > 5832  1.436297\n",
       "6 1.291178 69.62347 > 5832  1.436297"
      ]
     },
     "metadata": {},
     "output_type": "display_data"
    }
   ],
   "source": [
    "head(df_scale)"
   ]
  },
  {
   "cell_type": "code",
   "execution_count": 194,
   "metadata": {},
   "outputs": [
    {
     "data": {
      "text/html": [
       "<table class=\"dataframe\">\n",
       "<caption>A data.frame: 6 × 19</caption>\n",
       "<thead>\n",
       "\t<tr><th></th><th scope=col>Serum</th><th scope=col>Virus</th><th scope=col>PassageID</th><th scope=col>PlateID</th><th scope=col>SerumDate</th><th scope=col>DateID</th><th scope=col>Concentration</th><th scope=col>Rep</th><th scope=col>Titers</th><th scope=col>PlateMinConc</th><th scope=col>PlateMaxConc</th><th scope=col>ec50</th><th scope=col>ec60</th><th scope=col>ec70</th><th scope=col>ec80</th><th scope=col>hill</th><th scope=col>max</th><th scope=col>Report</th><th scope=col>Percent</th></tr>\n",
       "\t<tr><th></th><th scope=col>&lt;chr&gt;</th><th scope=col>&lt;chr&gt;</th><th scope=col>&lt;chr&gt;</th><th scope=col>&lt;chr&gt;</th><th scope=col>&lt;chr&gt;</th><th scope=col>&lt;chr&gt;</th><th scope=col>&lt;dbl&gt;</th><th scope=col>&lt;fct&gt;</th><th scope=col>&lt;int&gt;</th><th scope=col>&lt;dbl&gt;</th><th scope=col>&lt;dbl&gt;</th><th scope=col>&lt;dbl&gt;</th><th scope=col>&lt;dbl&gt;</th><th scope=col>&lt;dbl&gt;</th><th scope=col>&lt;dbl&gt;</th><th scope=col>&lt;dbl&gt;</th><th scope=col>&lt;dbl&gt;</th><th scope=col>&lt;chr&gt;</th><th scope=col>&lt;dbl&gt;</th></tr>\n",
       "</thead>\n",
       "<tbody>\n",
       "\t<tr><th scope=row>1</th><td>3001241322</td><td>3015856016-VT3</td><td>VT3</td><td>Plate 4V1_P1328_P1322</td><td>3001241322-1_6_2023 2:16:29 PM</td><td>1_6_2023 2:16:29 PM</td><td>0.0001371742</td><td>Rep1</td><td>45</td><td>0.0001371742</td><td>0.1</td><td>0.0001660172</td><td>0.0002272654</td><td>0.0003199971</td><td>0.0004857807</td><td>1.291178</td><td>69.62347</td><td>&gt; 5832</td><td>64.633374</td></tr>\n",
       "\t<tr><th scope=row>2</th><td>3001241322</td><td>3015856016-VT3</td><td>VT3</td><td>Plate 4V1_P1328_P1322</td><td>3001241322-1_6_2023 2:16:29 PM</td><td>1_6_2023 2:16:29 PM</td><td>0.0111111111</td><td>Rep1</td><td> 1</td><td>0.0001371742</td><td>0.1</td><td>0.0001660172</td><td>0.0002272654</td><td>0.0003199971</td><td>0.0004857807</td><td>1.291178</td><td>69.62347</td><td>&gt; 5832</td><td> 1.436297</td></tr>\n",
       "\t<tr><th scope=row>3</th><td>3001241322</td><td>3015856016-VT3</td><td>VT3</td><td>Plate 4V1_P1328_P1322</td><td>3001241322-1_6_2023 2:16:29 PM</td><td>1_6_2023 2:16:29 PM</td><td>0.0037037037</td><td>Rep1</td><td> 1</td><td>0.0001371742</td><td>0.1</td><td>0.0001660172</td><td>0.0002272654</td><td>0.0003199971</td><td>0.0004857807</td><td>1.291178</td><td>69.62347</td><td>&gt; 5832</td><td> 1.436297</td></tr>\n",
       "\t<tr><th scope=row>4</th><td>3001241322</td><td>3015856016-VT3</td><td>VT3</td><td>Plate 4V1_P1328_P1322</td><td>3001241322-1_6_2023 2:16:29 PM</td><td>1_6_2023 2:16:29 PM</td><td>0.0004115226</td><td>Rep1</td><td>20</td><td>0.0001371742</td><td>0.1</td><td>0.0001660172</td><td>0.0002272654</td><td>0.0003199971</td><td>0.0004857807</td><td>1.291178</td><td>69.62347</td><td>&gt; 5832</td><td>28.725944</td></tr>\n",
       "\t<tr><th scope=row>5</th><td>3001241322</td><td>3015856016-VT3</td><td>VT3</td><td>Plate 4V1_P1328_P1322</td><td>3001241322-1_6_2023 2:16:29 PM</td><td>1_6_2023 2:16:29 PM</td><td>0.0333333333</td><td>Rep1</td><td> 1</td><td>0.0001371742</td><td>0.1</td><td>0.0001660172</td><td>0.0002272654</td><td>0.0003199971</td><td>0.0004857807</td><td>1.291178</td><td>69.62347</td><td>&gt; 5832</td><td> 1.436297</td></tr>\n",
       "\t<tr><th scope=row>6</th><td>3001241322</td><td>3015856016-VT3</td><td>VT3</td><td>Plate 4V1_P1328_P1322</td><td>3001241322-1_6_2023 2:16:29 PM</td><td>1_6_2023 2:16:29 PM</td><td>0.0111111111</td><td>Rep3</td><td> 1</td><td>0.0001371742</td><td>0.1</td><td>0.0001660172</td><td>0.0002272654</td><td>0.0003199971</td><td>0.0004857807</td><td>1.291178</td><td>69.62347</td><td>&gt; 5832</td><td> 1.436297</td></tr>\n",
       "</tbody>\n",
       "</table>\n"
      ],
      "text/latex": [
       "A data.frame: 6 × 19\n",
       "\\begin{tabular}{r|lllllllllllllllllll}\n",
       "  & Serum & Virus & PassageID & PlateID & SerumDate & DateID & Concentration & Rep & Titers & PlateMinConc & PlateMaxConc & ec50 & ec60 & ec70 & ec80 & hill & max & Report & Percent\\\\\n",
       "  & <chr> & <chr> & <chr> & <chr> & <chr> & <chr> & <dbl> & <fct> & <int> & <dbl> & <dbl> & <dbl> & <dbl> & <dbl> & <dbl> & <dbl> & <dbl> & <chr> & <dbl>\\\\\n",
       "\\hline\n",
       "\t1 & 3001241322 & 3015856016-VT3 & VT3 & Plate 4V1\\_P1328\\_P1322 & 3001241322-1\\_6\\_2023 2:16:29 PM & 1\\_6\\_2023 2:16:29 PM & 0.0001371742 & Rep1 & 45 & 0.0001371742 & 0.1 & 0.0001660172 & 0.0002272654 & 0.0003199971 & 0.0004857807 & 1.291178 & 69.62347 & > 5832 & 64.633374\\\\\n",
       "\t2 & 3001241322 & 3015856016-VT3 & VT3 & Plate 4V1\\_P1328\\_P1322 & 3001241322-1\\_6\\_2023 2:16:29 PM & 1\\_6\\_2023 2:16:29 PM & 0.0111111111 & Rep1 &  1 & 0.0001371742 & 0.1 & 0.0001660172 & 0.0002272654 & 0.0003199971 & 0.0004857807 & 1.291178 & 69.62347 & > 5832 &  1.436297\\\\\n",
       "\t3 & 3001241322 & 3015856016-VT3 & VT3 & Plate 4V1\\_P1328\\_P1322 & 3001241322-1\\_6\\_2023 2:16:29 PM & 1\\_6\\_2023 2:16:29 PM & 0.0037037037 & Rep1 &  1 & 0.0001371742 & 0.1 & 0.0001660172 & 0.0002272654 & 0.0003199971 & 0.0004857807 & 1.291178 & 69.62347 & > 5832 &  1.436297\\\\\n",
       "\t4 & 3001241322 & 3015856016-VT3 & VT3 & Plate 4V1\\_P1328\\_P1322 & 3001241322-1\\_6\\_2023 2:16:29 PM & 1\\_6\\_2023 2:16:29 PM & 0.0004115226 & Rep1 & 20 & 0.0001371742 & 0.1 & 0.0001660172 & 0.0002272654 & 0.0003199971 & 0.0004857807 & 1.291178 & 69.62347 & > 5832 & 28.725944\\\\\n",
       "\t5 & 3001241322 & 3015856016-VT3 & VT3 & Plate 4V1\\_P1328\\_P1322 & 3001241322-1\\_6\\_2023 2:16:29 PM & 1\\_6\\_2023 2:16:29 PM & 0.0333333333 & Rep1 &  1 & 0.0001371742 & 0.1 & 0.0001660172 & 0.0002272654 & 0.0003199971 & 0.0004857807 & 1.291178 & 69.62347 & > 5832 &  1.436297\\\\\n",
       "\t6 & 3001241322 & 3015856016-VT3 & VT3 & Plate 4V1\\_P1328\\_P1322 & 3001241322-1\\_6\\_2023 2:16:29 PM & 1\\_6\\_2023 2:16:29 PM & 0.0111111111 & Rep3 &  1 & 0.0001371742 & 0.1 & 0.0001660172 & 0.0002272654 & 0.0003199971 & 0.0004857807 & 1.291178 & 69.62347 & > 5832 &  1.436297\\\\\n",
       "\\end{tabular}\n"
      ],
      "text/markdown": [
       "\n",
       "A data.frame: 6 × 19\n",
       "\n",
       "| <!--/--> | Serum &lt;chr&gt; | Virus &lt;chr&gt; | PassageID &lt;chr&gt; | PlateID &lt;chr&gt; | SerumDate &lt;chr&gt; | DateID &lt;chr&gt; | Concentration &lt;dbl&gt; | Rep &lt;fct&gt; | Titers &lt;int&gt; | PlateMinConc &lt;dbl&gt; | PlateMaxConc &lt;dbl&gt; | ec50 &lt;dbl&gt; | ec60 &lt;dbl&gt; | ec70 &lt;dbl&gt; | ec80 &lt;dbl&gt; | hill &lt;dbl&gt; | max &lt;dbl&gt; | Report &lt;chr&gt; | Percent &lt;dbl&gt; |\n",
       "|---|---|---|---|---|---|---|---|---|---|---|---|---|---|---|---|---|---|---|---|\n",
       "| 1 | 3001241322 | 3015856016-VT3 | VT3 | Plate 4V1_P1328_P1322 | 3001241322-1_6_2023 2:16:29 PM | 1_6_2023 2:16:29 PM | 0.0001371742 | Rep1 | 45 | 0.0001371742 | 0.1 | 0.0001660172 | 0.0002272654 | 0.0003199971 | 0.0004857807 | 1.291178 | 69.62347 | &gt; 5832 | 64.633374 |\n",
       "| 2 | 3001241322 | 3015856016-VT3 | VT3 | Plate 4V1_P1328_P1322 | 3001241322-1_6_2023 2:16:29 PM | 1_6_2023 2:16:29 PM | 0.0111111111 | Rep1 |  1 | 0.0001371742 | 0.1 | 0.0001660172 | 0.0002272654 | 0.0003199971 | 0.0004857807 | 1.291178 | 69.62347 | &gt; 5832 |  1.436297 |\n",
       "| 3 | 3001241322 | 3015856016-VT3 | VT3 | Plate 4V1_P1328_P1322 | 3001241322-1_6_2023 2:16:29 PM | 1_6_2023 2:16:29 PM | 0.0037037037 | Rep1 |  1 | 0.0001371742 | 0.1 | 0.0001660172 | 0.0002272654 | 0.0003199971 | 0.0004857807 | 1.291178 | 69.62347 | &gt; 5832 |  1.436297 |\n",
       "| 4 | 3001241322 | 3015856016-VT3 | VT3 | Plate 4V1_P1328_P1322 | 3001241322-1_6_2023 2:16:29 PM | 1_6_2023 2:16:29 PM | 0.0004115226 | Rep1 | 20 | 0.0001371742 | 0.1 | 0.0001660172 | 0.0002272654 | 0.0003199971 | 0.0004857807 | 1.291178 | 69.62347 | &gt; 5832 | 28.725944 |\n",
       "| 5 | 3001241322 | 3015856016-VT3 | VT3 | Plate 4V1_P1328_P1322 | 3001241322-1_6_2023 2:16:29 PM | 1_6_2023 2:16:29 PM | 0.0333333333 | Rep1 |  1 | 0.0001371742 | 0.1 | 0.0001660172 | 0.0002272654 | 0.0003199971 | 0.0004857807 | 1.291178 | 69.62347 | &gt; 5832 |  1.436297 |\n",
       "| 6 | 3001241322 | 3015856016-VT3 | VT3 | Plate 4V1_P1328_P1322 | 3001241322-1_6_2023 2:16:29 PM | 1_6_2023 2:16:29 PM | 0.0111111111 | Rep3 |  1 | 0.0001371742 | 0.1 | 0.0001660172 | 0.0002272654 | 0.0003199971 | 0.0004857807 | 1.291178 | 69.62347 | &gt; 5832 |  1.436297 |\n",
       "\n"
      ],
      "text/plain": [
       "  Serum      Virus          PassageID PlateID              \n",
       "1 3001241322 3015856016-VT3 VT3       Plate 4V1_P1328_P1322\n",
       "2 3001241322 3015856016-VT3 VT3       Plate 4V1_P1328_P1322\n",
       "3 3001241322 3015856016-VT3 VT3       Plate 4V1_P1328_P1322\n",
       "4 3001241322 3015856016-VT3 VT3       Plate 4V1_P1328_P1322\n",
       "5 3001241322 3015856016-VT3 VT3       Plate 4V1_P1328_P1322\n",
       "6 3001241322 3015856016-VT3 VT3       Plate 4V1_P1328_P1322\n",
       "  SerumDate                      DateID              Concentration Rep  Titers\n",
       "1 3001241322-1_6_2023 2:16:29 PM 1_6_2023 2:16:29 PM 0.0001371742  Rep1 45    \n",
       "2 3001241322-1_6_2023 2:16:29 PM 1_6_2023 2:16:29 PM 0.0111111111  Rep1  1    \n",
       "3 3001241322-1_6_2023 2:16:29 PM 1_6_2023 2:16:29 PM 0.0037037037  Rep1  1    \n",
       "4 3001241322-1_6_2023 2:16:29 PM 1_6_2023 2:16:29 PM 0.0004115226  Rep1 20    \n",
       "5 3001241322-1_6_2023 2:16:29 PM 1_6_2023 2:16:29 PM 0.0333333333  Rep1  1    \n",
       "6 3001241322-1_6_2023 2:16:29 PM 1_6_2023 2:16:29 PM 0.0111111111  Rep3  1    \n",
       "  PlateMinConc PlateMaxConc ec50         ec60         ec70         ec80        \n",
       "1 0.0001371742 0.1          0.0001660172 0.0002272654 0.0003199971 0.0004857807\n",
       "2 0.0001371742 0.1          0.0001660172 0.0002272654 0.0003199971 0.0004857807\n",
       "3 0.0001371742 0.1          0.0001660172 0.0002272654 0.0003199971 0.0004857807\n",
       "4 0.0001371742 0.1          0.0001660172 0.0002272654 0.0003199971 0.0004857807\n",
       "5 0.0001371742 0.1          0.0001660172 0.0002272654 0.0003199971 0.0004857807\n",
       "6 0.0001371742 0.1          0.0001660172 0.0002272654 0.0003199971 0.0004857807\n",
       "  hill     max      Report Percent  \n",
       "1 1.291178 69.62347 > 5832 64.633374\n",
       "2 1.291178 69.62347 > 5832  1.436297\n",
       "3 1.291178 69.62347 > 5832  1.436297\n",
       "4 1.291178 69.62347 > 5832 28.725944\n",
       "5 1.291178 69.62347 > 5832  1.436297\n",
       "6 1.291178 69.62347 > 5832  1.436297"
      ]
     },
     "metadata": {},
     "output_type": "display_data"
    }
   ],
   "source": [
    "df_serum_set = subset(df_scale , Serum == unique(df_scale$Serum)[1])\n",
    "df_serum_set = subset(df_serum_set, Concentration != 0)\n",
    "head(df_serum_set)"
   ]
  },
  {
   "cell_type": "code",
   "execution_count": 195,
   "metadata": {},
   "outputs": [],
   "source": [
    "g = ggplot(df_serum_set, aes(x = log2(Concentration), y = Percent, color =SerumDate)) +\n",
    "  theme_bw() +\n",
    "  stat_summary(geom=\"point\", fun=mean) +\n",
    "  stat_summary(fun.data = mean_se, geom = \"errorbar\") +\n",
    "  stat_smooth(method = \"drm\", mapping = aes(color = as.character(SerumDate)), method.args = list(fct = L.3()), se = FALSE)"
   ]
  },
  {
   "cell_type": "code",
   "execution_count": 196,
   "metadata": {},
   "outputs": [],
   "source": [
    "g = g + coord_cartesian(ylim=c(100, 0)) + scale_x_reverse(breaks = rev(seq(floor(range(log2(df_serum_set$Concentration))[1]), ceiling(range(log2(df_serum_set$Concentration))[2]), 1)),\n",
    "                       labels = -rev(seq(floor(range(log2(df_serum_set$Concentration))[1]), ceiling(range(log2(df_serum_set$Concentration))[2]), 1))) +\n",
    "  scale_y_continuous(breaks = seq(0, 100, 10),\n",
    "                     labels = 100 - seq(0, 100, 10)) +\n",
    "  geom_hline(yintercept=50, linetype=\"dashed\", color = \"red\", size=0.5) + \n",
    "  ylab(\"Percent Neutralization\") + xlab(\"log[Dilution]\") + ggtitle(Serum_uniq[1]) +\n",
    "  theme(plot.title = element_text(hjust = 0.5))"
   ]
  },
  {
   "cell_type": "code",
   "execution_count": 197,
   "metadata": {},
   "outputs": [
    {
     "name": "stderr",
     "output_type": "stream",
     "text": [
      "`geom_smooth()` using formula 'y ~ x'\n",
      "\n"
     ]
    },
    {
     "data": {
      "image/png": "[encoded data removed]",
      "text/plain": [
       "plot without title"
      ]
     },
     "metadata": {
      "image/png": {
       "height": 420,
       "width": 420
      }
     },
     "output_type": "display_data"
    }
   ],
   "source": [
    "g"
   ]
  },
  {
   "cell_type": "code",
   "execution_count": 198,
   "metadata": {},
   "outputs": [],
   "source": [
    "#ggsave(paste0(outdir, Serum_uniq[1], \".pdf\"), plot = g, device = pdf, width = 6, height = 4)\n"
   ]
  },
  {
   "cell_type": "code",
   "execution_count": 199,
   "metadata": {},
   "outputs": [
    {
     "name": "stdout",
     "output_type": "stream",
     "text": [
      "[1] \"3001241322-1_6_2023 2:16:29 PM\"\n"
     ]
    },
    {
     "name": "stderr",
     "output_type": "stream",
     "text": [
      "Saving 6.67 x 6.67 in image\n",
      "\n",
      "`geom_smooth()` using formula 'y ~ x'\n",
      "\n"
     ]
    },
    {
     "name": "stdout",
     "output_type": "stream",
     "text": [
      "[1] \"3001241322-12_9_2022 2:27:57 PM\"\n"
     ]
    },
    {
     "name": "stderr",
     "output_type": "stream",
     "text": [
      "Saving 6.67 x 6.67 in image\n",
      "\n",
      "`geom_smooth()` using formula 'y ~ x'\n",
      "\n"
     ]
    },
    {
     "name": "stdout",
     "output_type": "stream",
     "text": [
      "[1] \"3001241322-1_6_2023 2:16:25 PM\"\n"
     ]
    },
    {
     "name": "stderr",
     "output_type": "stream",
     "text": [
      "Saving 6.67 x 6.67 in image\n",
      "\n",
      "`geom_smooth()` using formula 'y ~ x'\n",
      "\n"
     ]
    },
    {
     "name": "stdout",
     "output_type": "stream",
     "text": [
      "[1] \"3001241322-1_6_2023 2:16:11 PM\"\n"
     ]
    },
    {
     "name": "stderr",
     "output_type": "stream",
     "text": [
      "Saving 6.67 x 6.67 in image\n",
      "\n",
      "`geom_smooth()` using formula 'y ~ x'\n",
      "\n"
     ]
    },
    {
     "name": "stdout",
     "output_type": "stream",
     "text": [
      "[1] \"3001241322-1_6_2023 2:16:18 PM\"\n"
     ]
    },
    {
     "name": "stderr",
     "output_type": "stream",
     "text": [
      "Saving 6.67 x 6.67 in image\n",
      "\n",
      "`geom_smooth()` using formula 'y ~ x'\n",
      "\n"
     ]
    },
    {
     "name": "stdout",
     "output_type": "stream",
     "text": [
      "[1] \"3001241322-1_6_2023 2:16:22 PM\"\n"
     ]
    },
    {
     "name": "stderr",
     "output_type": "stream",
     "text": [
      "Saving 6.67 x 6.67 in image\n",
      "\n",
      "`geom_smooth()` using formula 'y ~ x'\n",
      "\n"
     ]
    },
    {
     "name": "stdout",
     "output_type": "stream",
     "text": [
      "[1] \"3001241322-1_6_2023 2:16:15 PM\"\n"
     ]
    },
    {
     "name": "stderr",
     "output_type": "stream",
     "text": [
      "Saving 6.67 x 6.67 in image\n",
      "\n",
      "`geom_smooth()` using formula 'y ~ x'\n",
      "\n"
     ]
    },
    {
     "name": "stdout",
     "output_type": "stream",
     "text": [
      "[1] \"3001241322-1_6_2023 2:16:07 PM\"\n"
     ]
    },
    {
     "name": "stderr",
     "output_type": "stream",
     "text": [
      "Saving 6.67 x 6.67 in image\n",
      "\n",
      "`geom_smooth()` using formula 'y ~ x'\n",
      "\n"
     ]
    },
    {
     "name": "stdout",
     "output_type": "stream",
     "text": [
      "[1] \"3001241322-1_6_2023 2:16:04 PM\"\n"
     ]
    },
    {
     "name": "stderr",
     "output_type": "stream",
     "text": [
      "Saving 6.67 x 6.67 in image\n",
      "\n",
      "`geom_smooth()` using formula 'y ~ x'\n",
      "\n"
     ]
    },
    {
     "name": "stdout",
     "output_type": "stream",
     "text": [
      "[1] \"3001241322-1_6_2023 2:16:00 PM\"\n"
     ]
    },
    {
     "name": "stderr",
     "output_type": "stream",
     "text": [
      "Saving 6.67 x 6.67 in image\n",
      "\n",
      "`geom_smooth()` using formula 'y ~ x'\n",
      "\n"
     ]
    },
    {
     "name": "stdout",
     "output_type": "stream",
     "text": [
      "[1] \"3001241322-1_6_2023 2:15:57 PM\"\n"
     ]
    },
    {
     "name": "stderr",
     "output_type": "stream",
     "text": [
      "Saving 6.67 x 6.67 in image\n",
      "\n",
      "`geom_smooth()` using formula 'y ~ x'\n",
      "\n"
     ]
    },
    {
     "name": "stdout",
     "output_type": "stream",
     "text": [
      "[1] \"3001241322-1_6_2023 2:15:53 PM\"\n"
     ]
    },
    {
     "name": "stderr",
     "output_type": "stream",
     "text": [
      "Saving 6.67 x 6.67 in image\n",
      "\n",
      "`geom_smooth()` using formula 'y ~ x'\n",
      "\n"
     ]
    },
    {
     "name": "stdout",
     "output_type": "stream",
     "text": [
      "[1] \"3001241322-1_6_2023 2:15:50 PM\"\n"
     ]
    },
    {
     "name": "stderr",
     "output_type": "stream",
     "text": [
      "Saving 6.67 x 6.67 in image\n",
      "\n",
      "`geom_smooth()` using formula 'y ~ x'\n",
      "\n"
     ]
    },
    {
     "name": "stdout",
     "output_type": "stream",
     "text": [
      "[1] \"3001241328-1_6_2023 2:16:29 PM\"\n"
     ]
    },
    {
     "name": "stderr",
     "output_type": "stream",
     "text": [
      "Saving 6.67 x 6.67 in image\n",
      "\n",
      "`geom_smooth()` using formula 'y ~ x'\n",
      "\n"
     ]
    },
    {
     "name": "stdout",
     "output_type": "stream",
     "text": [
      "[1] \"3001241328-12_9_2022 2:27:57 PM\"\n"
     ]
    },
    {
     "name": "stderr",
     "output_type": "stream",
     "text": [
      "Saving 6.67 x 6.67 in image\n",
      "\n",
      "`geom_smooth()` using formula 'y ~ x'\n",
      "\n"
     ]
    },
    {
     "name": "stdout",
     "output_type": "stream",
     "text": [
      "[1] \"3001241328-1_6_2023 2:16:25 PM\"\n"
     ]
    },
    {
     "name": "stderr",
     "output_type": "stream",
     "text": [
      "Saving 6.67 x 6.67 in image\n",
      "\n",
      "`geom_smooth()` using formula 'y ~ x'\n",
      "\n"
     ]
    },
    {
     "name": "stdout",
     "output_type": "stream",
     "text": [
      "[1] \"3001241328-1_6_2023 2:16:11 PM\"\n"
     ]
    },
    {
     "name": "stderr",
     "output_type": "stream",
     "text": [
      "Saving 6.67 x 6.67 in image\n",
      "\n",
      "`geom_smooth()` using formula 'y ~ x'\n",
      "\n"
     ]
    },
    {
     "name": "stdout",
     "output_type": "stream",
     "text": [
      "[1] \"3001241328-1_6_2023 2:16:18 PM\"\n"
     ]
    },
    {
     "name": "stderr",
     "output_type": "stream",
     "text": [
      "Saving 6.67 x 6.67 in image\n",
      "\n",
      "`geom_smooth()` using formula 'y ~ x'\n",
      "\n"
     ]
    },
    {
     "name": "stdout",
     "output_type": "stream",
     "text": [
      "[1] \"3001241328-1_6_2023 2:16:22 PM\"\n"
     ]
    },
    {
     "name": "stderr",
     "output_type": "stream",
     "text": [
      "Saving 6.67 x 6.67 in image\n",
      "\n",
      "`geom_smooth()` using formula 'y ~ x'\n",
      "\n"
     ]
    },
    {
     "name": "stdout",
     "output_type": "stream",
     "text": [
      "[1] \"3001241328-1_6_2023 2:16:15 PM\"\n"
     ]
    },
    {
     "name": "stderr",
     "output_type": "stream",
     "text": [
      "Saving 6.67 x 6.67 in image\n",
      "\n",
      "`geom_smooth()` using formula 'y ~ x'\n",
      "\n"
     ]
    },
    {
     "name": "stdout",
     "output_type": "stream",
     "text": [
      "[1] \"3001241328-1_6_2023 2:16:07 PM\"\n"
     ]
    },
    {
     "name": "stderr",
     "output_type": "stream",
     "text": [
      "Saving 6.67 x 6.67 in image\n",
      "\n",
      "`geom_smooth()` using formula 'y ~ x'\n",
      "\n"
     ]
    },
    {
     "name": "stdout",
     "output_type": "stream",
     "text": [
      "[1] \"3001241328-1_6_2023 2:16:04 PM\"\n"
     ]
    },
    {
     "name": "stderr",
     "output_type": "stream",
     "text": [
      "Saving 6.67 x 6.67 in image\n",
      "\n",
      "`geom_smooth()` using formula 'y ~ x'\n",
      "\n"
     ]
    },
    {
     "name": "stdout",
     "output_type": "stream",
     "text": [
      "[1] \"3001241328-1_6_2023 2:16:00 PM\"\n"
     ]
    },
    {
     "name": "stderr",
     "output_type": "stream",
     "text": [
      "Saving 6.67 x 6.67 in image\n",
      "\n",
      "`geom_smooth()` using formula 'y ~ x'\n",
      "\n"
     ]
    },
    {
     "name": "stdout",
     "output_type": "stream",
     "text": [
      "[1] \"3001241328-1_6_2023 2:15:57 PM\"\n"
     ]
    },
    {
     "name": "stderr",
     "output_type": "stream",
     "text": [
      "Saving 6.67 x 6.67 in image\n",
      "\n",
      "`geom_smooth()` using formula 'y ~ x'\n",
      "\n"
     ]
    },
    {
     "name": "stdout",
     "output_type": "stream",
     "text": [
      "[1] \"3001241328-1_6_2023 2:15:53 PM\"\n"
     ]
    },
    {
     "name": "stderr",
     "output_type": "stream",
     "text": [
      "Saving 6.67 x 6.67 in image\n",
      "\n",
      "`geom_smooth()` using formula 'y ~ x'\n",
      "\n"
     ]
    },
    {
     "name": "stdout",
     "output_type": "stream",
     "text": [
      "[1] \"3001241328-1_6_2023 2:15:50 PM\"\n"
     ]
    },
    {
     "name": "stderr",
     "output_type": "stream",
     "text": [
      "Saving 6.67 x 6.67 in image\n",
      "\n",
      "`geom_smooth()` using formula 'y ~ x'\n",
      "\n"
     ]
    },
    {
     "name": "stdout",
     "output_type": "stream",
     "text": [
      "[1] \"3001241329-1_6_2023 2:16:28 PM\"\n"
     ]
    },
    {
     "name": "stderr",
     "output_type": "stream",
     "text": [
      "Saving 6.67 x 6.67 in image\n",
      "\n",
      "`geom_smooth()` using formula 'y ~ x'\n",
      "\n"
     ]
    },
    {
     "name": "stdout",
     "output_type": "stream",
     "text": [
      "[1] \"3001241329-12_9_2022 2:27:57 PM\"\n"
     ]
    },
    {
     "name": "stderr",
     "output_type": "stream",
     "text": [
      "Saving 6.67 x 6.67 in image\n",
      "\n",
      "`geom_smooth()` using formula 'y ~ x'\n",
      "\n"
     ]
    },
    {
     "name": "stdout",
     "output_type": "stream",
     "text": [
      "[1] \"3001241329-1_6_2023 2:16:25 PM\"\n"
     ]
    },
    {
     "name": "stderr",
     "output_type": "stream",
     "text": [
      "Saving 6.67 x 6.67 in image\n",
      "\n",
      "`geom_smooth()` using formula 'y ~ x'\n",
      "\n"
     ]
    },
    {
     "name": "stdout",
     "output_type": "stream",
     "text": [
      "[1] \"3001241329-1_6_2023 2:16:10 PM\"\n"
     ]
    },
    {
     "name": "stderr",
     "output_type": "stream",
     "text": [
      "Saving 6.67 x 6.67 in image\n",
      "\n",
      "`geom_smooth()` using formula 'y ~ x'\n",
      "\n"
     ]
    },
    {
     "name": "stdout",
     "output_type": "stream",
     "text": [
      "[1] \"3001241329-1_6_2023 2:16:17 PM\"\n"
     ]
    },
    {
     "name": "stderr",
     "output_type": "stream",
     "text": [
      "Saving 6.67 x 6.67 in image\n",
      "\n",
      "`geom_smooth()` using formula 'y ~ x'\n",
      "\n"
     ]
    },
    {
     "name": "stdout",
     "output_type": "stream",
     "text": [
      "[1] \"3001241329-1_6_2023 2:16:21 PM\"\n"
     ]
    },
    {
     "name": "stderr",
     "output_type": "stream",
     "text": [
      "Saving 6.67 x 6.67 in image\n",
      "\n",
      "`geom_smooth()` using formula 'y ~ x'\n",
      "\n"
     ]
    },
    {
     "name": "stdout",
     "output_type": "stream",
     "text": [
      "[1] \"3001241329-1_6_2023 2:16:14 PM\"\n"
     ]
    },
    {
     "name": "stderr",
     "output_type": "stream",
     "text": [
      "Saving 6.67 x 6.67 in image\n",
      "\n",
      "`geom_smooth()` using formula 'y ~ x'\n",
      "\n"
     ]
    },
    {
     "name": "stdout",
     "output_type": "stream",
     "text": [
      "[1] \"3001241329-1_6_2023 2:16:06 PM\"\n"
     ]
    },
    {
     "name": "stderr",
     "output_type": "stream",
     "text": [
      "Saving 6.67 x 6.67 in image\n",
      "\n",
      "`geom_smooth()` using formula 'y ~ x'\n",
      "\n"
     ]
    },
    {
     "name": "stdout",
     "output_type": "stream",
     "text": [
      "[1] \"3001241329-1_6_2023 2:16:03 PM\"\n"
     ]
    },
    {
     "name": "stderr",
     "output_type": "stream",
     "text": [
      "Saving 6.67 x 6.67 in image\n",
      "\n",
      "`geom_smooth()` using formula 'y ~ x'\n",
      "\n"
     ]
    },
    {
     "name": "stdout",
     "output_type": "stream",
     "text": [
      "[1] \"3001241329-1_6_2023 2:15:59 PM\"\n"
     ]
    },
    {
     "name": "stderr",
     "output_type": "stream",
     "text": [
      "Saving 6.67 x 6.67 in image\n",
      "\n",
      "`geom_smooth()` using formula 'y ~ x'\n",
      "\n"
     ]
    },
    {
     "name": "stdout",
     "output_type": "stream",
     "text": [
      "[1] \"3001241329-1_6_2023 2:15:56 PM\"\n"
     ]
    },
    {
     "name": "stderr",
     "output_type": "stream",
     "text": [
      "Saving 6.67 x 6.67 in image\n",
      "\n",
      "`geom_smooth()` using formula 'y ~ x'\n",
      "\n"
     ]
    },
    {
     "name": "stdout",
     "output_type": "stream",
     "text": [
      "[1] \"3001241329-1_6_2023 2:15:52 PM\"\n"
     ]
    },
    {
     "name": "stderr",
     "output_type": "stream",
     "text": [
      "Saving 6.67 x 6.67 in image\n",
      "\n",
      "`geom_smooth()` using formula 'y ~ x'\n",
      "\n"
     ]
    },
    {
     "name": "stdout",
     "output_type": "stream",
     "text": [
      "[1] \"3001241329-1_6_2023 2:15:49 PM\"\n"
     ]
    },
    {
     "name": "stderr",
     "output_type": "stream",
     "text": [
      "Saving 6.67 x 6.67 in image\n",
      "\n",
      "`geom_smooth()` using formula 'y ~ x'\n",
      "\n"
     ]
    },
    {
     "name": "stdout",
     "output_type": "stream",
     "text": [
      "[1] \"3001241336-1_6_2023 2:16:28 PM\"\n"
     ]
    },
    {
     "name": "stderr",
     "output_type": "stream",
     "text": [
      "Saving 6.67 x 6.67 in image\n",
      "\n",
      "`geom_smooth()` using formula 'y ~ x'\n",
      "\n"
     ]
    },
    {
     "name": "stdout",
     "output_type": "stream",
     "text": [
      "[1] \"3001241336-12_9_2022 2:27:57 PM\"\n"
     ]
    },
    {
     "name": "stderr",
     "output_type": "stream",
     "text": [
      "Saving 6.67 x 6.67 in image\n",
      "\n",
      "`geom_smooth()` using formula 'y ~ x'\n",
      "\n"
     ]
    },
    {
     "name": "stdout",
     "output_type": "stream",
     "text": [
      "[1] \"3001241336-1_6_2023 2:16:25 PM\"\n"
     ]
    },
    {
     "name": "stderr",
     "output_type": "stream",
     "text": [
      "Saving 6.67 x 6.67 in image\n",
      "\n",
      "`geom_smooth()` using formula 'y ~ x'\n",
      "\n"
     ]
    },
    {
     "name": "stdout",
     "output_type": "stream",
     "text": [
      "[1] \"3001241336-1_6_2023 2:16:10 PM\"\n"
     ]
    },
    {
     "name": "stderr",
     "output_type": "stream",
     "text": [
      "Saving 6.67 x 6.67 in image\n",
      "\n",
      "`geom_smooth()` using formula 'y ~ x'\n",
      "\n"
     ]
    },
    {
     "name": "stdout",
     "output_type": "stream",
     "text": [
      "[1] \"3001241336-1_6_2023 2:16:17 PM\"\n"
     ]
    },
    {
     "name": "stderr",
     "output_type": "stream",
     "text": [
      "Saving 6.67 x 6.67 in image\n",
      "\n",
      "`geom_smooth()` using formula 'y ~ x'\n",
      "\n"
     ]
    },
    {
     "name": "stdout",
     "output_type": "stream",
     "text": [
      "[1] \"3001241336-1_6_2023 2:16:21 PM\"\n"
     ]
    },
    {
     "name": "stderr",
     "output_type": "stream",
     "text": [
      "Saving 6.67 x 6.67 in image\n",
      "\n",
      "`geom_smooth()` using formula 'y ~ x'\n",
      "\n"
     ]
    },
    {
     "name": "stdout",
     "output_type": "stream",
     "text": [
      "[1] \"3001241336-1_6_2023 2:16:14 PM\"\n"
     ]
    },
    {
     "name": "stderr",
     "output_type": "stream",
     "text": [
      "Saving 6.67 x 6.67 in image\n",
      "\n",
      "`geom_smooth()` using formula 'y ~ x'\n",
      "\n"
     ]
    },
    {
     "name": "stdout",
     "output_type": "stream",
     "text": [
      "[1] \"3001241336-1_6_2023 2:16:06 PM\"\n"
     ]
    },
    {
     "name": "stderr",
     "output_type": "stream",
     "text": [
      "Saving 6.67 x 6.67 in image\n",
      "\n",
      "`geom_smooth()` using formula 'y ~ x'\n",
      "\n"
     ]
    },
    {
     "name": "stdout",
     "output_type": "stream",
     "text": [
      "[1] \"3001241336-1_6_2023 2:16:03 PM\"\n"
     ]
    },
    {
     "name": "stderr",
     "output_type": "stream",
     "text": [
      "Saving 6.67 x 6.67 in image\n",
      "\n",
      "`geom_smooth()` using formula 'y ~ x'\n",
      "\n"
     ]
    },
    {
     "name": "stdout",
     "output_type": "stream",
     "text": [
      "[1] \"3001241336-1_6_2023 2:15:59 PM\"\n"
     ]
    },
    {
     "name": "stderr",
     "output_type": "stream",
     "text": [
      "Saving 6.67 x 6.67 in image\n",
      "\n",
      "`geom_smooth()` using formula 'y ~ x'\n",
      "\n",
      "Warning message in sqrt(diag(varMat)):\n",
      "“NaNs produced”\n"
     ]
    },
    {
     "name": "stdout",
     "output_type": "stream",
     "text": [
      "[1] \"3001241336-1_6_2023 2:15:56 PM\"\n"
     ]
    },
    {
     "name": "stderr",
     "output_type": "stream",
     "text": [
      "Saving 6.67 x 6.67 in image\n",
      "\n",
      "`geom_smooth()` using formula 'y ~ x'\n",
      "\n"
     ]
    },
    {
     "name": "stdout",
     "output_type": "stream",
     "text": [
      "[1] \"3001241336-1_6_2023 2:15:52 PM\"\n"
     ]
    },
    {
     "name": "stderr",
     "output_type": "stream",
     "text": [
      "Saving 6.67 x 6.67 in image\n",
      "\n",
      "`geom_smooth()` using formula 'y ~ x'\n",
      "\n"
     ]
    },
    {
     "name": "stdout",
     "output_type": "stream",
     "text": [
      "[1] \"3001241336-1_6_2023 2:15:49 PM\"\n"
     ]
    },
    {
     "name": "stderr",
     "output_type": "stream",
     "text": [
      "Saving 6.67 x 6.67 in image\n",
      "\n",
      "`geom_smooth()` using formula 'y ~ x'\n",
      "\n"
     ]
    },
    {
     "name": "stdout",
     "output_type": "stream",
     "text": [
      "[1] \"V2002080B2-12_9_2022 2:27:54 PM\"\n"
     ]
    },
    {
     "name": "stderr",
     "output_type": "stream",
     "text": [
      "Saving 6.67 x 6.67 in image\n",
      "\n",
      "`geom_smooth()` using formula 'y ~ x'\n",
      "\n"
     ]
    },
    {
     "name": "stdout",
     "output_type": "stream",
     "text": [
      "[1] \"V2002080B2-1_6_2023 2:16:15 PM\"\n"
     ]
    },
    {
     "name": "stderr",
     "output_type": "stream",
     "text": [
      "Saving 6.67 x 6.67 in image\n",
      "\n",
      "`geom_smooth()` using formula 'y ~ x'\n",
      "\n"
     ]
    },
    {
     "name": "stdout",
     "output_type": "stream",
     "text": [
      "[1] \"V2002080B2-1_6_2023 2:16:12 PM\"\n"
     ]
    },
    {
     "name": "stderr",
     "output_type": "stream",
     "text": [
      "Saving 6.67 x 6.67 in image\n",
      "\n",
      "`geom_smooth()` using formula 'y ~ x'\n",
      "\n"
     ]
    },
    {
     "name": "stdout",
     "output_type": "stream",
     "text": [
      "[1] \"V2002080B2-1_6_2023 2:16:05 PM\"\n"
     ]
    },
    {
     "name": "stderr",
     "output_type": "stream",
     "text": [
      "Saving 6.67 x 6.67 in image\n",
      "\n",
      "`geom_smooth()` using formula 'y ~ x'\n",
      "\n"
     ]
    },
    {
     "name": "stdout",
     "output_type": "stream",
     "text": [
      "[1] \"V2002080B2-1_6_2023 2:16:01 PM\"\n"
     ]
    },
    {
     "name": "stderr",
     "output_type": "stream",
     "text": [
      "Saving 6.67 x 6.67 in image\n",
      "\n",
      "`geom_smooth()` using formula 'y ~ x'\n",
      "\n"
     ]
    },
    {
     "name": "stdout",
     "output_type": "stream",
     "text": [
      "[1] \"V2002080B2-1_6_2023 2:15:57 PM\"\n"
     ]
    },
    {
     "name": "stderr",
     "output_type": "stream",
     "text": [
      "Saving 6.67 x 6.67 in image\n",
      "\n",
      "`geom_smooth()` using formula 'y ~ x'\n",
      "\n"
     ]
    },
    {
     "name": "stdout",
     "output_type": "stream",
     "text": [
      "[1] \"V2002080B2-1_6_2023 2:15:54 PM\"\n"
     ]
    },
    {
     "name": "stderr",
     "output_type": "stream",
     "text": [
      "Saving 6.67 x 6.67 in image\n",
      "\n",
      "`geom_smooth()` using formula 'y ~ x'\n",
      "\n"
     ]
    },
    {
     "name": "stdout",
     "output_type": "stream",
     "text": [
      "[1] \"V2002080B2-1_6_2023 2:15:51 PM\"\n"
     ]
    },
    {
     "name": "stderr",
     "output_type": "stream",
     "text": [
      "Saving 6.67 x 6.67 in image\n",
      "\n",
      "`geom_smooth()` using formula 'y ~ x'\n",
      "\n"
     ]
    },
    {
     "name": "stdout",
     "output_type": "stream",
     "text": [
      "[1] \"V2002080B2-1_6_2023 2:15:47 PM\"\n"
     ]
    },
    {
     "name": "stderr",
     "output_type": "stream",
     "text": [
      "Saving 6.67 x 6.67 in image\n",
      "\n",
      "`geom_smooth()` using formula 'y ~ x'\n",
      "\n"
     ]
    },
    {
     "name": "stdout",
     "output_type": "stream",
     "text": [
      "[1] \"V2010004B2-1_6_2023 2:16:27 PM\"\n"
     ]
    },
    {
     "name": "stderr",
     "output_type": "stream",
     "text": [
      "Saving 6.67 x 6.67 in image\n",
      "\n",
      "`geom_smooth()` using formula 'y ~ x'\n",
      "\n"
     ]
    },
    {
     "name": "stdout",
     "output_type": "stream",
     "text": [
      "[1] \"V2010004B2-12_9_2022 2:27:56 PM\"\n"
     ]
    },
    {
     "name": "stderr",
     "output_type": "stream",
     "text": [
      "Saving 6.67 x 6.67 in image\n",
      "\n",
      "`geom_smooth()` using formula 'y ~ x'\n",
      "\n"
     ]
    },
    {
     "name": "stdout",
     "output_type": "stream",
     "text": [
      "[1] \"V2010004B2-1_6_2023 2:16:24 PM\"\n"
     ]
    },
    {
     "name": "stderr",
     "output_type": "stream",
     "text": [
      "Saving 6.67 x 6.67 in image\n",
      "\n",
      "`geom_smooth()` using formula 'y ~ x'\n",
      "\n"
     ]
    },
    {
     "name": "stdout",
     "output_type": "stream",
     "text": [
      "[1] \"V2010004B2-1_6_2023 2:16:09 PM\"\n"
     ]
    },
    {
     "name": "stderr",
     "output_type": "stream",
     "text": [
      "Saving 6.67 x 6.67 in image\n",
      "\n",
      "`geom_smooth()` using formula 'y ~ x'\n",
      "\n"
     ]
    },
    {
     "name": "stdout",
     "output_type": "stream",
     "text": [
      "[1] \"V2010004B2-1_6_2023 2:16:16 PM\"\n"
     ]
    },
    {
     "name": "stderr",
     "output_type": "stream",
     "text": [
      "Saving 6.67 x 6.67 in image\n",
      "\n",
      "`geom_smooth()` using formula 'y ~ x'\n",
      "\n"
     ]
    },
    {
     "name": "stdout",
     "output_type": "stream",
     "text": [
      "[1] \"V2010004B2-1_6_2023 2:16:20 PM\"\n"
     ]
    },
    {
     "name": "stderr",
     "output_type": "stream",
     "text": [
      "Saving 6.67 x 6.67 in image\n",
      "\n",
      "`geom_smooth()` using formula 'y ~ x'\n",
      "\n"
     ]
    },
    {
     "name": "stdout",
     "output_type": "stream",
     "text": [
      "[1] \"V2010004B2-1_6_2023 2:16:13 PM\"\n"
     ]
    },
    {
     "name": "stderr",
     "output_type": "stream",
     "text": [
      "Saving 6.67 x 6.67 in image\n",
      "\n",
      "`geom_smooth()` using formula 'y ~ x'\n",
      "\n"
     ]
    },
    {
     "name": "stdout",
     "output_type": "stream",
     "text": [
      "[1] \"V2010004B2-1_6_2023 2:16:05 PM\"\n"
     ]
    },
    {
     "name": "stderr",
     "output_type": "stream",
     "text": [
      "Saving 6.67 x 6.67 in image\n",
      "\n",
      "`geom_smooth()` using formula 'y ~ x'\n",
      "\n"
     ]
    },
    {
     "name": "stdout",
     "output_type": "stream",
     "text": [
      "[1] \"V2010004B2-1_6_2023 2:16:02 PM\"\n"
     ]
    },
    {
     "name": "stderr",
     "output_type": "stream",
     "text": [
      "Saving 6.67 x 6.67 in image\n",
      "\n",
      "`geom_smooth()` using formula 'y ~ x'\n",
      "\n"
     ]
    },
    {
     "name": "stdout",
     "output_type": "stream",
     "text": [
      "[1] \"V2010004B2-1_6_2023 2:15:58 PM\"\n"
     ]
    },
    {
     "name": "stderr",
     "output_type": "stream",
     "text": [
      "Saving 6.67 x 6.67 in image\n",
      "\n",
      "`geom_smooth()` using formula 'y ~ x'\n",
      "\n"
     ]
    },
    {
     "name": "stdout",
     "output_type": "stream",
     "text": [
      "[1] \"V2010004B2-1_6_2023 2:15:55 PM\"\n"
     ]
    },
    {
     "name": "stderr",
     "output_type": "stream",
     "text": [
      "Saving 6.67 x 6.67 in image\n",
      "\n",
      "`geom_smooth()` using formula 'y ~ x'\n",
      "\n"
     ]
    },
    {
     "name": "stdout",
     "output_type": "stream",
     "text": [
      "[1] \"V2010004B2-1_6_2023 2:15:51 PM\"\n"
     ]
    },
    {
     "name": "stderr",
     "output_type": "stream",
     "text": [
      "Saving 6.67 x 6.67 in image\n",
      "\n",
      "`geom_smooth()` using formula 'y ~ x'\n",
      "\n"
     ]
    },
    {
     "name": "stdout",
     "output_type": "stream",
     "text": [
      "[1] \"V2010004B2-1_6_2023 2:15:48 PM\"\n"
     ]
    },
    {
     "name": "stderr",
     "output_type": "stream",
     "text": [
      "Saving 6.67 x 6.67 in image\n",
      "\n",
      "`geom_smooth()` using formula 'y ~ x'\n",
      "\n"
     ]
    },
    {
     "name": "stdout",
     "output_type": "stream",
     "text": [
      "[1] \"V2010022B2-1_6_2023 2:16:26 PM\"\n"
     ]
    },
    {
     "name": "stderr",
     "output_type": "stream",
     "text": [
      "Saving 6.67 x 6.67 in image\n",
      "\n",
      "`geom_smooth()` using formula 'y ~ x'\n",
      "\n"
     ]
    },
    {
     "name": "stdout",
     "output_type": "stream",
     "text": [
      "[1] \"V2010022B2-12_9_2022 2:27:54 PM\"\n"
     ]
    },
    {
     "name": "stderr",
     "output_type": "stream",
     "text": [
      "Saving 6.67 x 6.67 in image\n",
      "\n",
      "`geom_smooth()` using formula 'y ~ x'\n",
      "\n"
     ]
    },
    {
     "name": "stdout",
     "output_type": "stream",
     "text": [
      "[1] \"V2010022B2-1_6_2023 2:16:23 PM\"\n"
     ]
    },
    {
     "name": "stderr",
     "output_type": "stream",
     "text": [
      "Saving 6.67 x 6.67 in image\n",
      "\n",
      "`geom_smooth()` using formula 'y ~ x'\n",
      "\n"
     ]
    },
    {
     "name": "stdout",
     "output_type": "stream",
     "text": [
      "[1] \"V2010022B2-1_6_2023 2:16:08 PM\"\n"
     ]
    },
    {
     "name": "stderr",
     "output_type": "stream",
     "text": [
      "Saving 6.67 x 6.67 in image\n",
      "\n",
      "`geom_smooth()` using formula 'y ~ x'\n",
      "\n"
     ]
    },
    {
     "name": "stdout",
     "output_type": "stream",
     "text": [
      "[1] \"V2010022B2-1_6_2023 2:16:15 PM\"\n"
     ]
    },
    {
     "name": "stderr",
     "output_type": "stream",
     "text": [
      "Saving 6.67 x 6.67 in image\n",
      "\n",
      "`geom_smooth()` using formula 'y ~ x'\n",
      "\n"
     ]
    },
    {
     "name": "stdout",
     "output_type": "stream",
     "text": [
      "[1] \"V2010022B2-1_6_2023 2:16:19 PM\"\n"
     ]
    },
    {
     "name": "stderr",
     "output_type": "stream",
     "text": [
      "Saving 6.67 x 6.67 in image\n",
      "\n",
      "`geom_smooth()` using formula 'y ~ x'\n",
      "\n"
     ]
    },
    {
     "name": "stdout",
     "output_type": "stream",
     "text": [
      "[1] \"V2010022B2-1_6_2023 2:16:12 PM\"\n"
     ]
    },
    {
     "name": "stderr",
     "output_type": "stream",
     "text": [
      "Saving 6.67 x 6.67 in image\n",
      "\n",
      "`geom_smooth()` using formula 'y ~ x'\n",
      "\n"
     ]
    },
    {
     "name": "stdout",
     "output_type": "stream",
     "text": [
      "[1] \"V2010022B2-1_6_2023 2:16:05 PM\"\n"
     ]
    },
    {
     "name": "stderr",
     "output_type": "stream",
     "text": [
      "Saving 6.67 x 6.67 in image\n",
      "\n",
      "`geom_smooth()` using formula 'y ~ x'\n",
      "\n"
     ]
    },
    {
     "name": "stdout",
     "output_type": "stream",
     "text": [
      "[1] \"V2010022B2-1_6_2023 2:16:01 PM\"\n"
     ]
    },
    {
     "name": "stderr",
     "output_type": "stream",
     "text": [
      "Saving 6.67 x 6.67 in image\n",
      "\n",
      "`geom_smooth()` using formula 'y ~ x'\n",
      "\n"
     ]
    },
    {
     "name": "stdout",
     "output_type": "stream",
     "text": [
      "[1] \"V2010022B2-1_6_2023 2:15:57 PM\"\n"
     ]
    },
    {
     "name": "stderr",
     "output_type": "stream",
     "text": [
      "Saving 6.67 x 6.67 in image\n",
      "\n",
      "`geom_smooth()` using formula 'y ~ x'\n",
      "\n"
     ]
    },
    {
     "name": "stdout",
     "output_type": "stream",
     "text": [
      "[1] \"V2010022B2-1_6_2023 2:15:54 PM\"\n"
     ]
    },
    {
     "name": "stderr",
     "output_type": "stream",
     "text": [
      "Saving 6.67 x 6.67 in image\n",
      "\n",
      "`geom_smooth()` using formula 'y ~ x'\n",
      "\n"
     ]
    },
    {
     "name": "stdout",
     "output_type": "stream",
     "text": [
      "[1] \"V2010022B2-1_6_2023 2:15:51 PM\"\n"
     ]
    },
    {
     "name": "stderr",
     "output_type": "stream",
     "text": [
      "Saving 6.67 x 6.67 in image\n",
      "\n",
      "`geom_smooth()` using formula 'y ~ x'\n",
      "\n"
     ]
    },
    {
     "name": "stdout",
     "output_type": "stream",
     "text": [
      "[1] \"V2010022B2-1_6_2023 2:15:47 PM\"\n"
     ]
    },
    {
     "name": "stderr",
     "output_type": "stream",
     "text": [
      "Saving 6.67 x 6.67 in image\n",
      "\n",
      "`geom_smooth()` using formula 'y ~ x'\n",
      "\n"
     ]
    },
    {
     "name": "stdout",
     "output_type": "stream",
     "text": [
      "[1] \"V2010026B2-1_6_2023 2:16:27 PM\"\n"
     ]
    },
    {
     "name": "stderr",
     "output_type": "stream",
     "text": [
      "Saving 6.67 x 6.67 in image\n",
      "\n",
      "`geom_smooth()` using formula 'y ~ x'\n",
      "\n"
     ]
    },
    {
     "name": "stdout",
     "output_type": "stream",
     "text": [
      "[1] \"V2010026B2-12_9_2022 2:27:56 PM\"\n"
     ]
    },
    {
     "name": "stderr",
     "output_type": "stream",
     "text": [
      "Saving 6.67 x 6.67 in image\n",
      "\n",
      "`geom_smooth()` using formula 'y ~ x'\n",
      "\n"
     ]
    },
    {
     "name": "stdout",
     "output_type": "stream",
     "text": [
      "[1] \"V2010026B2-1_6_2023 2:16:24 PM\"\n"
     ]
    },
    {
     "name": "stderr",
     "output_type": "stream",
     "text": [
      "Saving 6.67 x 6.67 in image\n",
      "\n",
      "`geom_smooth()` using formula 'y ~ x'\n",
      "\n"
     ]
    },
    {
     "name": "stdout",
     "output_type": "stream",
     "text": [
      "[1] \"V2010026B2-1_6_2023 2:16:09 PM\"\n"
     ]
    },
    {
     "name": "stderr",
     "output_type": "stream",
     "text": [
      "Saving 6.67 x 6.67 in image\n",
      "\n",
      "`geom_smooth()` using formula 'y ~ x'\n",
      "\n"
     ]
    },
    {
     "name": "stdout",
     "output_type": "stream",
     "text": [
      "[1] \"V2010026B2-1_6_2023 2:16:16 PM\"\n"
     ]
    },
    {
     "name": "stderr",
     "output_type": "stream",
     "text": [
      "Saving 6.67 x 6.67 in image\n",
      "\n",
      "`geom_smooth()` using formula 'y ~ x'\n",
      "\n"
     ]
    },
    {
     "name": "stdout",
     "output_type": "stream",
     "text": [
      "[1] \"V2010026B2-1_6_2023 2:16:20 PM\"\n"
     ]
    },
    {
     "name": "stderr",
     "output_type": "stream",
     "text": [
      "Saving 6.67 x 6.67 in image\n",
      "\n",
      "`geom_smooth()` using formula 'y ~ x'\n",
      "\n"
     ]
    },
    {
     "name": "stdout",
     "output_type": "stream",
     "text": [
      "[1] \"V2010026B2-1_6_2023 2:16:13 PM\"\n"
     ]
    },
    {
     "name": "stderr",
     "output_type": "stream",
     "text": [
      "Saving 6.67 x 6.67 in image\n",
      "\n",
      "`geom_smooth()` using formula 'y ~ x'\n",
      "\n"
     ]
    },
    {
     "name": "stdout",
     "output_type": "stream",
     "text": [
      "[1] \"V2010026B2-1_6_2023 2:16:05 PM\"\n"
     ]
    },
    {
     "name": "stderr",
     "output_type": "stream",
     "text": [
      "Saving 6.67 x 6.67 in image\n",
      "\n",
      "`geom_smooth()` using formula 'y ~ x'\n",
      "\n"
     ]
    },
    {
     "name": "stdout",
     "output_type": "stream",
     "text": [
      "[1] \"V2010026B2-1_6_2023 2:16:02 PM\"\n"
     ]
    },
    {
     "name": "stderr",
     "output_type": "stream",
     "text": [
      "Saving 6.67 x 6.67 in image\n",
      "\n",
      "`geom_smooth()` using formula 'y ~ x'\n",
      "\n"
     ]
    },
    {
     "name": "stdout",
     "output_type": "stream",
     "text": [
      "[1] \"V2010026B2-1_6_2023 2:15:58 PM\"\n"
     ]
    },
    {
     "name": "stderr",
     "output_type": "stream",
     "text": [
      "Saving 6.67 x 6.67 in image\n",
      "\n",
      "`geom_smooth()` using formula 'y ~ x'\n",
      "\n"
     ]
    },
    {
     "name": "stdout",
     "output_type": "stream",
     "text": [
      "[1] \"V2010026B2-1_6_2023 2:15:55 PM\"\n"
     ]
    },
    {
     "name": "stderr",
     "output_type": "stream",
     "text": [
      "Saving 6.67 x 6.67 in image\n",
      "\n",
      "`geom_smooth()` using formula 'y ~ x'\n",
      "\n"
     ]
    },
    {
     "name": "stdout",
     "output_type": "stream",
     "text": [
      "[1] \"V2010026B2-1_6_2023 2:15:51 PM\"\n"
     ]
    },
    {
     "name": "stderr",
     "output_type": "stream",
     "text": [
      "Saving 6.67 x 6.67 in image\n",
      "\n",
      "`geom_smooth()` using formula 'y ~ x'\n",
      "\n"
     ]
    },
    {
     "name": "stdout",
     "output_type": "stream",
     "text": [
      "[1] \"V2010026B2-1_6_2023 2:15:48 PM\"\n"
     ]
    },
    {
     "name": "stderr",
     "output_type": "stream",
     "text": [
      "Saving 6.67 x 6.67 in image\n",
      "\n",
      "`geom_smooth()` using formula 'y ~ x'\n",
      "\n"
     ]
    }
   ],
   "source": [
    "for(Serum_uniq in unique(df_scale$SerumDate)){\n",
    "    print(Serum_uniq)\n",
    "    df_serum_set = subset(df_scale , SerumDate == Serum_uniq[1])\n",
    "    df_serum_set = subset(df_serum_set, Concentration != 0)\n",
    "    g = ggplot(df_serum_set, aes(x = log2(Concentration), y = Percent, color = Virus)) +\n",
    "      theme_bw() +\n",
    "      stat_summary(geom=\"point\", fun=mean) +\n",
    "      stat_summary(fun.data = mean_se, geom = \"errorbar\") +\n",
    "      stat_smooth(method = \"drm\", mapping = aes(color = as.character(Virus)), method.args = list(fct = L.3()), se = FALSE)\n",
    "    g = g + coord_cartesian(ylim=c(100, 0)) + scale_x_reverse(breaks = rev(seq(floor(range(log2(df_serum_set$Concentration))[1]), ceiling(range(log2(df_serum_set$Concentration))[2]), 1)),\n",
    "                       labels = -rev(seq(floor(range(log2(df_serum_set$Concentration))[1]), ceiling(range(log2(df_serum_set$Concentration))[2]), 1))) +\n",
    "          scale_y_continuous(breaks = seq(0, 100, 10), labels = 100 - seq(0, 100, 10)) +\n",
    "          geom_hline(yintercept=50, linetype=\"dashed\", color = \"red\", size=0.5) + \n",
    "  ylab(\"Percent Neutralization\") + xlab(\"log[Dilution]\") + ggtitle(Serum_uniq[1]) +\n",
    "  theme(plot.title = element_text(hjust = 0.5))\n",
    "    #ggsave(paste0(outdir, Serum_uniq, \".pdf\"), plot = g, device = pdf, width = 8, height = 4)\n",
    "     ggsave(paste0(outdir, Serum_uniq, \".png\"))\n",
    "    }"
   ]
  },
  {
   "cell_type": "code",
   "execution_count": null,
   "metadata": {},
   "outputs": [],
   "source": []
  },
  {
   "cell_type": "code",
   "execution_count": null,
   "metadata": {},
   "outputs": [],
   "source": []
  }
 ],
 "metadata": {
  "kernelspec": {
   "display_name": "R",
   "language": "R",
   "name": "ir"
  },
  "language_info": {
   "codemirror_mode": "r",
   "file_extension": ".r",
   "mimetype": "text/x-r-source",
   "name": "R",
   "pygments_lexer": "r",
   "version": "4.1.3"
  }
 },
 "nbformat": 4,
 "nbformat_minor": 4
}
